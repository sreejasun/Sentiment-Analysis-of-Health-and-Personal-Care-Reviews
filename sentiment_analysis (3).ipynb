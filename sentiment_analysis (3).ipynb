{
 "cells": [
  {
   "cell_type": "code",
   "execution_count": 2,
   "id": "e2f0eef1",
   "metadata": {},
   "outputs": [],
   "source": [
    "from transformers import pipeline"
   ]
  },
  {
   "cell_type": "code",
   "execution_count": 3,
   "id": "38f71274",
   "metadata": {
    "scrolled": true
   },
   "outputs": [
    {
     "name": "stderr",
     "output_type": "stream",
     "text": [
      "No model was supplied, defaulted to distilbert-base-uncased-finetuned-sst-2-english and revision af0f99b (https://huggingface.co/distilbert-base-uncased-finetuned-sst-2-english).\n",
      "Using a pipeline without specifying a model name and revision in production is not recommended.\n"
     ]
    }
   ],
   "source": [
    "sent_pipeline=pipeline(\"sentiment-analysis\")"
   ]
  },
  {
   "cell_type": "code",
   "execution_count": 4,
   "id": "6ecd5a72",
   "metadata": {},
   "outputs": [
    {
     "data": {
      "text/plain": [
       "[{'label': 'POSITIVE', 'score': 0.9997907280921936}]"
      ]
     },
     "execution_count": 4,
     "metadata": {},
     "output_type": "execute_result"
    }
   ],
   "source": [
    "sent_pipeline(\"i love coding!\")"
   ]
  },
  {
   "cell_type": "code",
   "execution_count": 5,
   "id": "6f2f9df8",
   "metadata": {},
   "outputs": [
    {
     "data": {
      "text/plain": [
       "[{'label': 'NEGATIVE', 'score': 0.9987181425094604}]"
      ]
     },
     "execution_count": 5,
     "metadata": {},
     "output_type": "execute_result"
    }
   ],
   "source": [
    "sent_pipeline(\"i hate coding!\")"
   ]
  },
  {
   "cell_type": "code",
   "execution_count": 6,
   "id": "014093b0",
   "metadata": {},
   "outputs": [],
   "source": [
    "import json"
   ]
  },
  {
   "cell_type": "code",
   "execution_count": 7,
   "id": "fdece322",
   "metadata": {},
   "outputs": [],
   "source": [
    "import pandas as pd\n",
    "file = r\"/Users/sunkeswaramsreeja/Desktop/Health_and_Personal_Care.jsonl\"\n",
    "df=pd.read_json(file,lines=True)"
   ]
  },
  {
   "cell_type": "code",
   "execution_count": 8,
   "id": "6ebf4ffb",
   "metadata": {
    "scrolled": true
   },
   "outputs": [
    {
     "data": {
      "text/html": [
       "<div>\n",
       "<style scoped>\n",
       "    .dataframe tbody tr th:only-of-type {\n",
       "        vertical-align: middle;\n",
       "    }\n",
       "\n",
       "    .dataframe tbody tr th {\n",
       "        vertical-align: top;\n",
       "    }\n",
       "\n",
       "    .dataframe thead th {\n",
       "        text-align: right;\n",
       "    }\n",
       "</style>\n",
       "<table border=\"1\" class=\"dataframe\">\n",
       "  <thead>\n",
       "    <tr style=\"text-align: right;\">\n",
       "      <th></th>\n",
       "      <th>rating</th>\n",
       "      <th>title</th>\n",
       "      <th>text</th>\n",
       "      <th>images</th>\n",
       "      <th>asin</th>\n",
       "      <th>parent_asin</th>\n",
       "      <th>user_id</th>\n",
       "      <th>timestamp</th>\n",
       "      <th>helpful_vote</th>\n",
       "      <th>verified_purchase</th>\n",
       "    </tr>\n",
       "  </thead>\n",
       "  <tbody>\n",
       "    <tr>\n",
       "      <th>0</th>\n",
       "      <td>4</td>\n",
       "      <td>12 mg is 12 on the periodic table people! Mg f...</td>\n",
       "      <td>This review is more to clarify someone else’s ...</td>\n",
       "      <td>[]</td>\n",
       "      <td>B07TDSJZMR</td>\n",
       "      <td>B07TDSJZMR</td>\n",
       "      <td>AFKZENTNBQ7A7V7UXW5JJI6UGRYQ</td>\n",
       "      <td>2020-02-06 00:49:35.902</td>\n",
       "      <td>3</td>\n",
       "      <td>True</td>\n",
       "    </tr>\n",
       "    <tr>\n",
       "      <th>1</th>\n",
       "      <td>5</td>\n",
       "      <td>Save the lanet using less plastic.</td>\n",
       "      <td>Love these easy multitasking bleach tablets. B...</td>\n",
       "      <td>[]</td>\n",
       "      <td>B08637FWWF</td>\n",
       "      <td>B08637FWWF</td>\n",
       "      <td>AEVWAM3YWN5URJVJIZZ6XPD2MKIA</td>\n",
       "      <td>2020-11-02 22:03:06.880</td>\n",
       "      <td>3</td>\n",
       "      <td>True</td>\n",
       "    </tr>\n",
       "    <tr>\n",
       "      <th>2</th>\n",
       "      <td>5</td>\n",
       "      <td>Fantastic</td>\n",
       "      <td>I have been suffering a couple months with hee...</td>\n",
       "      <td>[]</td>\n",
       "      <td>B07KJVGNN5</td>\n",
       "      <td>B07KJVGNN5</td>\n",
       "      <td>AHSPLDNW5OOUK2PLH7GXLACFBZNQ</td>\n",
       "      <td>2019-07-24 11:13:58.905</td>\n",
       "      <td>0</td>\n",
       "      <td>True</td>\n",
       "    </tr>\n",
       "    <tr>\n",
       "      <th>3</th>\n",
       "      <td>4</td>\n",
       "      <td>It holds the water and makes bubbles.  That's ...</td>\n",
       "      <td>It's cheap and it does what I wanted.  The \"ma...</td>\n",
       "      <td>[]</td>\n",
       "      <td>B007HY7GC2</td>\n",
       "      <td>B092RP73CX</td>\n",
       "      <td>AEZGPLOYTSAPR3DHZKKXEFPAXUAA</td>\n",
       "      <td>2022-09-04 02:29:02.725</td>\n",
       "      <td>7</td>\n",
       "      <td>True</td>\n",
       "    </tr>\n",
       "    <tr>\n",
       "      <th>4</th>\n",
       "      <td>1</td>\n",
       "      <td>Not for me</td>\n",
       "      <td>Didn't do a thing for me. Not saying they don'...</td>\n",
       "      <td>[]</td>\n",
       "      <td>B08KYJLF5T</td>\n",
       "      <td>B08KYJLF5T</td>\n",
       "      <td>AEQAYV7RXZEBXMQIQPL6KCT2CFWQ</td>\n",
       "      <td>2022-01-20 23:53:07.262</td>\n",
       "      <td>0</td>\n",
       "      <td>True</td>\n",
       "    </tr>\n",
       "  </tbody>\n",
       "</table>\n",
       "</div>"
      ],
      "text/plain": [
       "   rating                                              title  \\\n",
       "0       4  12 mg is 12 on the periodic table people! Mg f...   \n",
       "1       5                 Save the lanet using less plastic.   \n",
       "2       5                                          Fantastic   \n",
       "3       4  It holds the water and makes bubbles.  That's ...   \n",
       "4       1                                         Not for me   \n",
       "\n",
       "                                                text images        asin  \\\n",
       "0  This review is more to clarify someone else’s ...     []  B07TDSJZMR   \n",
       "1  Love these easy multitasking bleach tablets. B...     []  B08637FWWF   \n",
       "2  I have been suffering a couple months with hee...     []  B07KJVGNN5   \n",
       "3  It's cheap and it does what I wanted.  The \"ma...     []  B007HY7GC2   \n",
       "4  Didn't do a thing for me. Not saying they don'...     []  B08KYJLF5T   \n",
       "\n",
       "  parent_asin                       user_id               timestamp  \\\n",
       "0  B07TDSJZMR  AFKZENTNBQ7A7V7UXW5JJI6UGRYQ 2020-02-06 00:49:35.902   \n",
       "1  B08637FWWF  AEVWAM3YWN5URJVJIZZ6XPD2MKIA 2020-11-02 22:03:06.880   \n",
       "2  B07KJVGNN5  AHSPLDNW5OOUK2PLH7GXLACFBZNQ 2019-07-24 11:13:58.905   \n",
       "3  B092RP73CX  AEZGPLOYTSAPR3DHZKKXEFPAXUAA 2022-09-04 02:29:02.725   \n",
       "4  B08KYJLF5T  AEQAYV7RXZEBXMQIQPL6KCT2CFWQ 2022-01-20 23:53:07.262   \n",
       "\n",
       "   helpful_vote  verified_purchase  \n",
       "0             3               True  \n",
       "1             3               True  \n",
       "2             0               True  \n",
       "3             7               True  \n",
       "4             0               True  "
      ]
     },
     "execution_count": 8,
     "metadata": {},
     "output_type": "execute_result"
    }
   ],
   "source": [
    "df.head()"
   ]
  },
  {
   "cell_type": "code",
   "execution_count": 9,
   "id": "9f21ddb6",
   "metadata": {},
   "outputs": [
    {
     "data": {
      "text/plain": [
       "(494121, 10)"
      ]
     },
     "execution_count": 9,
     "metadata": {},
     "output_type": "execute_result"
    }
   ],
   "source": [
    "df.shape"
   ]
  },
  {
   "cell_type": "code",
   "execution_count": 10,
   "id": "10a8fe2e",
   "metadata": {},
   "outputs": [],
   "source": [
    "data=df.head(5000)"
   ]
  },
  {
   "cell_type": "code",
   "execution_count": 11,
   "id": "59fd45e8",
   "metadata": {},
   "outputs": [],
   "source": [
    "from transformers import DistilBertTokenizer\n",
    "\n",
    "# Define the tokenizer\n",
    "tokenizer=DistilBertTokenizer.from_pretrained('distilbert-base-uncased')\n",
    "\n",
    "\n",
    "# Filter rows where the text length exceeds 512 tokens\n",
    "data=data[data['text'].apply(lambda x:len(tokenizer.tokenize(x)))<500]"
   ]
  },
  {
   "cell_type": "code",
   "execution_count": 13,
   "id": "61286e6b",
   "metadata": {},
   "outputs": [
    {
     "name": "stderr",
     "output_type": "stream",
     "text": [
      "/var/folders/hr/xps4q_dd3611wkdd5br2tbs40000gn/T/ipykernel_52741/1119495400.py:1: UserWarning: Pandas doesn't allow columns to be created via a new attribute name - see https://pandas.pydata.org/pandas-docs/stable/indexing.html#attribute-access\n",
      "  data.sentiment=data['text'].apply(sent_pipeline)\n"
     ]
    }
   ],
   "source": [
    "data.sentiment=data['text'].apply(sent_pipeline)"
   ]
  },
  {
   "cell_type": "code",
   "execution_count": 14,
   "id": "e920b024",
   "metadata": {
    "scrolled": true
   },
   "outputs": [
    {
     "data": {
      "text/plain": [
       "0       [{'label': 'NEGATIVE', 'score': 0.978313386440...\n",
       "1       [{'label': 'POSITIVE', 'score': 0.999182641506...\n",
       "2       [{'label': 'NEGATIVE', 'score': 0.969690382480...\n",
       "3       [{'label': 'NEGATIVE', 'score': 0.991963386535...\n",
       "4       [{'label': 'NEGATIVE', 'score': 0.997587800025...\n",
       "                              ...                        \n",
       "4995    [{'label': 'NEGATIVE', 'score': 0.990723073482...\n",
       "4996    [{'label': 'POSITIVE', 'score': 0.999745905399...\n",
       "4997    [{'label': 'POSITIVE', 'score': 0.989800274372...\n",
       "4998    [{'label': 'NEGATIVE', 'score': 0.987770438194...\n",
       "4999    [{'label': 'POSITIVE', 'score': 0.999873161315...\n",
       "Name: text, Length: 4927, dtype: object"
      ]
     },
     "execution_count": 14,
     "metadata": {},
     "output_type": "execute_result"
    }
   ],
   "source": [
    "data.sentiment"
   ]
  },
  {
   "cell_type": "code",
   "execution_count": 16,
   "id": "d47dcc13",
   "metadata": {},
   "outputs": [],
   "source": [
    "data.sentiment.to_csv('/Users/sunkeswaramsreeja/Desktop/results.csv', index=False)"
   ]
  },
  {
   "cell_type": "code",
   "execution_count": 18,
   "id": "548172fc",
   "metadata": {},
   "outputs": [],
   "source": [
    "f = r\"/Users/sunkeswaramsreeja/Desktop/results.csv\"\n",
    "res=pd.read_csv(f)"
   ]
  },
  {
   "cell_type": "code",
   "execution_count": 19,
   "id": "d8c06212",
   "metadata": {},
   "outputs": [
    {
     "data": {
      "text/html": [
       "<div>\n",
       "<style scoped>\n",
       "    .dataframe tbody tr th:only-of-type {\n",
       "        vertical-align: middle;\n",
       "    }\n",
       "\n",
       "    .dataframe tbody tr th {\n",
       "        vertical-align: top;\n",
       "    }\n",
       "\n",
       "    .dataframe thead th {\n",
       "        text-align: right;\n",
       "    }\n",
       "</style>\n",
       "<table border=\"1\" class=\"dataframe\">\n",
       "  <thead>\n",
       "    <tr style=\"text-align: right;\">\n",
       "      <th></th>\n",
       "      <th>text</th>\n",
       "    </tr>\n",
       "  </thead>\n",
       "  <tbody>\n",
       "    <tr>\n",
       "      <th>0</th>\n",
       "      <td>[{'label': 'NEGATIVE', 'score': 0.978313386440...</td>\n",
       "    </tr>\n",
       "    <tr>\n",
       "      <th>1</th>\n",
       "      <td>[{'label': 'POSITIVE', 'score': 0.999182641506...</td>\n",
       "    </tr>\n",
       "    <tr>\n",
       "      <th>2</th>\n",
       "      <td>[{'label': 'NEGATIVE', 'score': 0.969690382480...</td>\n",
       "    </tr>\n",
       "    <tr>\n",
       "      <th>3</th>\n",
       "      <td>[{'label': 'NEGATIVE', 'score': 0.991963386535...</td>\n",
       "    </tr>\n",
       "    <tr>\n",
       "      <th>4</th>\n",
       "      <td>[{'label': 'NEGATIVE', 'score': 0.997587800025...</td>\n",
       "    </tr>\n",
       "  </tbody>\n",
       "</table>\n",
       "</div>"
      ],
      "text/plain": [
       "                                                text\n",
       "0  [{'label': 'NEGATIVE', 'score': 0.978313386440...\n",
       "1  [{'label': 'POSITIVE', 'score': 0.999182641506...\n",
       "2  [{'label': 'NEGATIVE', 'score': 0.969690382480...\n",
       "3  [{'label': 'NEGATIVE', 'score': 0.991963386535...\n",
       "4  [{'label': 'NEGATIVE', 'score': 0.997587800025..."
      ]
     },
     "execution_count": 19,
     "metadata": {},
     "output_type": "execute_result"
    }
   ],
   "source": [
    "res.head()"
   ]
  },
  {
   "cell_type": "code",
   "execution_count": 20,
   "id": "3421afca",
   "metadata": {},
   "outputs": [],
   "source": [
    "data['id'] = range(1, len(data) + 1)"
   ]
  },
  {
   "cell_type": "code",
   "execution_count": 21,
   "id": "4fd4fd5a",
   "metadata": {},
   "outputs": [],
   "source": [
    "da=pd.DataFrame(res)"
   ]
  },
  {
   "cell_type": "code",
   "execution_count": 22,
   "id": "9db12a71",
   "metadata": {},
   "outputs": [
    {
     "data": {
      "text/html": [
       "<div>\n",
       "<style scoped>\n",
       "    .dataframe tbody tr th:only-of-type {\n",
       "        vertical-align: middle;\n",
       "    }\n",
       "\n",
       "    .dataframe tbody tr th {\n",
       "        vertical-align: top;\n",
       "    }\n",
       "\n",
       "    .dataframe thead th {\n",
       "        text-align: right;\n",
       "    }\n",
       "</style>\n",
       "<table border=\"1\" class=\"dataframe\">\n",
       "  <thead>\n",
       "    <tr style=\"text-align: right;\">\n",
       "      <th></th>\n",
       "      <th>text</th>\n",
       "    </tr>\n",
       "  </thead>\n",
       "  <tbody>\n",
       "    <tr>\n",
       "      <th>0</th>\n",
       "      <td>[{'label': 'NEGATIVE', 'score': 0.978313386440...</td>\n",
       "    </tr>\n",
       "    <tr>\n",
       "      <th>1</th>\n",
       "      <td>[{'label': 'POSITIVE', 'score': 0.999182641506...</td>\n",
       "    </tr>\n",
       "    <tr>\n",
       "      <th>2</th>\n",
       "      <td>[{'label': 'NEGATIVE', 'score': 0.969690382480...</td>\n",
       "    </tr>\n",
       "    <tr>\n",
       "      <th>3</th>\n",
       "      <td>[{'label': 'NEGATIVE', 'score': 0.991963386535...</td>\n",
       "    </tr>\n",
       "    <tr>\n",
       "      <th>4</th>\n",
       "      <td>[{'label': 'NEGATIVE', 'score': 0.997587800025...</td>\n",
       "    </tr>\n",
       "  </tbody>\n",
       "</table>\n",
       "</div>"
      ],
      "text/plain": [
       "                                                text\n",
       "0  [{'label': 'NEGATIVE', 'score': 0.978313386440...\n",
       "1  [{'label': 'POSITIVE', 'score': 0.999182641506...\n",
       "2  [{'label': 'NEGATIVE', 'score': 0.969690382480...\n",
       "3  [{'label': 'NEGATIVE', 'score': 0.991963386535...\n",
       "4  [{'label': 'NEGATIVE', 'score': 0.997587800025..."
      ]
     },
     "execution_count": 22,
     "metadata": {},
     "output_type": "execute_result"
    }
   ],
   "source": [
    "da.head()"
   ]
  },
  {
   "cell_type": "code",
   "execution_count": 23,
   "id": "dcb0a49c",
   "metadata": {
    "scrolled": true
   },
   "outputs": [],
   "source": [
    "da=da.rename(columns={'text':'senti_res'})"
   ]
  },
  {
   "cell_type": "code",
   "execution_count": 24,
   "id": "1170c7ea",
   "metadata": {},
   "outputs": [],
   "source": [
    "da['id'] = range(1, len(data) + 1)"
   ]
  },
  {
   "cell_type": "code",
   "execution_count": 25,
   "id": "71a19fb4",
   "metadata": {
    "scrolled": true
   },
   "outputs": [
    {
     "data": {
      "text/html": [
       "<div>\n",
       "<style scoped>\n",
       "    .dataframe tbody tr th:only-of-type {\n",
       "        vertical-align: middle;\n",
       "    }\n",
       "\n",
       "    .dataframe tbody tr th {\n",
       "        vertical-align: top;\n",
       "    }\n",
       "\n",
       "    .dataframe thead th {\n",
       "        text-align: right;\n",
       "    }\n",
       "</style>\n",
       "<table border=\"1\" class=\"dataframe\">\n",
       "  <thead>\n",
       "    <tr style=\"text-align: right;\">\n",
       "      <th></th>\n",
       "      <th>senti_res</th>\n",
       "      <th>id</th>\n",
       "    </tr>\n",
       "  </thead>\n",
       "  <tbody>\n",
       "    <tr>\n",
       "      <th>0</th>\n",
       "      <td>[{'label': 'NEGATIVE', 'score': 0.978313386440...</td>\n",
       "      <td>1</td>\n",
       "    </tr>\n",
       "    <tr>\n",
       "      <th>1</th>\n",
       "      <td>[{'label': 'POSITIVE', 'score': 0.999182641506...</td>\n",
       "      <td>2</td>\n",
       "    </tr>\n",
       "    <tr>\n",
       "      <th>2</th>\n",
       "      <td>[{'label': 'NEGATIVE', 'score': 0.969690382480...</td>\n",
       "      <td>3</td>\n",
       "    </tr>\n",
       "    <tr>\n",
       "      <th>3</th>\n",
       "      <td>[{'label': 'NEGATIVE', 'score': 0.991963386535...</td>\n",
       "      <td>4</td>\n",
       "    </tr>\n",
       "    <tr>\n",
       "      <th>4</th>\n",
       "      <td>[{'label': 'NEGATIVE', 'score': 0.997587800025...</td>\n",
       "      <td>5</td>\n",
       "    </tr>\n",
       "  </tbody>\n",
       "</table>\n",
       "</div>"
      ],
      "text/plain": [
       "                                           senti_res  id\n",
       "0  [{'label': 'NEGATIVE', 'score': 0.978313386440...   1\n",
       "1  [{'label': 'POSITIVE', 'score': 0.999182641506...   2\n",
       "2  [{'label': 'NEGATIVE', 'score': 0.969690382480...   3\n",
       "3  [{'label': 'NEGATIVE', 'score': 0.991963386535...   4\n",
       "4  [{'label': 'NEGATIVE', 'score': 0.997587800025...   5"
      ]
     },
     "execution_count": 25,
     "metadata": {},
     "output_type": "execute_result"
    }
   ],
   "source": [
    "da.head()"
   ]
  },
  {
   "cell_type": "code",
   "execution_count": 26,
   "id": "a9ac19fd",
   "metadata": {},
   "outputs": [],
   "source": [
    "data= data.merge(da, left_on='id', right_on='id', how='left')"
   ]
  },
  {
   "cell_type": "code",
   "execution_count": 27,
   "id": "3b6772c8",
   "metadata": {
    "scrolled": true
   },
   "outputs": [
    {
     "data": {
      "text/html": [
       "<div>\n",
       "<style scoped>\n",
       "    .dataframe tbody tr th:only-of-type {\n",
       "        vertical-align: middle;\n",
       "    }\n",
       "\n",
       "    .dataframe tbody tr th {\n",
       "        vertical-align: top;\n",
       "    }\n",
       "\n",
       "    .dataframe thead th {\n",
       "        text-align: right;\n",
       "    }\n",
       "</style>\n",
       "<table border=\"1\" class=\"dataframe\">\n",
       "  <thead>\n",
       "    <tr style=\"text-align: right;\">\n",
       "      <th></th>\n",
       "      <th>rating</th>\n",
       "      <th>title</th>\n",
       "      <th>text</th>\n",
       "      <th>images</th>\n",
       "      <th>asin</th>\n",
       "      <th>parent_asin</th>\n",
       "      <th>user_id</th>\n",
       "      <th>timestamp</th>\n",
       "      <th>helpful_vote</th>\n",
       "      <th>verified_purchase</th>\n",
       "      <th>id</th>\n",
       "      <th>senti_res</th>\n",
       "    </tr>\n",
       "  </thead>\n",
       "  <tbody>\n",
       "    <tr>\n",
       "      <th>0</th>\n",
       "      <td>4</td>\n",
       "      <td>12 mg is 12 on the periodic table people! Mg f...</td>\n",
       "      <td>This review is more to clarify someone else’s ...</td>\n",
       "      <td>[]</td>\n",
       "      <td>B07TDSJZMR</td>\n",
       "      <td>B07TDSJZMR</td>\n",
       "      <td>AFKZENTNBQ7A7V7UXW5JJI6UGRYQ</td>\n",
       "      <td>2020-02-06 00:49:35.902</td>\n",
       "      <td>3</td>\n",
       "      <td>True</td>\n",
       "      <td>1</td>\n",
       "      <td>[{'label': 'NEGATIVE', 'score': 0.978313386440...</td>\n",
       "    </tr>\n",
       "    <tr>\n",
       "      <th>1</th>\n",
       "      <td>5</td>\n",
       "      <td>Save the lanet using less plastic.</td>\n",
       "      <td>Love these easy multitasking bleach tablets. B...</td>\n",
       "      <td>[]</td>\n",
       "      <td>B08637FWWF</td>\n",
       "      <td>B08637FWWF</td>\n",
       "      <td>AEVWAM3YWN5URJVJIZZ6XPD2MKIA</td>\n",
       "      <td>2020-11-02 22:03:06.880</td>\n",
       "      <td>3</td>\n",
       "      <td>True</td>\n",
       "      <td>2</td>\n",
       "      <td>[{'label': 'POSITIVE', 'score': 0.999182641506...</td>\n",
       "    </tr>\n",
       "    <tr>\n",
       "      <th>2</th>\n",
       "      <td>5</td>\n",
       "      <td>Fantastic</td>\n",
       "      <td>I have been suffering a couple months with hee...</td>\n",
       "      <td>[]</td>\n",
       "      <td>B07KJVGNN5</td>\n",
       "      <td>B07KJVGNN5</td>\n",
       "      <td>AHSPLDNW5OOUK2PLH7GXLACFBZNQ</td>\n",
       "      <td>2019-07-24 11:13:58.905</td>\n",
       "      <td>0</td>\n",
       "      <td>True</td>\n",
       "      <td>3</td>\n",
       "      <td>[{'label': 'NEGATIVE', 'score': 0.969690382480...</td>\n",
       "    </tr>\n",
       "    <tr>\n",
       "      <th>3</th>\n",
       "      <td>4</td>\n",
       "      <td>It holds the water and makes bubbles.  That's ...</td>\n",
       "      <td>It's cheap and it does what I wanted.  The \"ma...</td>\n",
       "      <td>[]</td>\n",
       "      <td>B007HY7GC2</td>\n",
       "      <td>B092RP73CX</td>\n",
       "      <td>AEZGPLOYTSAPR3DHZKKXEFPAXUAA</td>\n",
       "      <td>2022-09-04 02:29:02.725</td>\n",
       "      <td>7</td>\n",
       "      <td>True</td>\n",
       "      <td>4</td>\n",
       "      <td>[{'label': 'NEGATIVE', 'score': 0.991963386535...</td>\n",
       "    </tr>\n",
       "    <tr>\n",
       "      <th>4</th>\n",
       "      <td>1</td>\n",
       "      <td>Not for me</td>\n",
       "      <td>Didn't do a thing for me. Not saying they don'...</td>\n",
       "      <td>[]</td>\n",
       "      <td>B08KYJLF5T</td>\n",
       "      <td>B08KYJLF5T</td>\n",
       "      <td>AEQAYV7RXZEBXMQIQPL6KCT2CFWQ</td>\n",
       "      <td>2022-01-20 23:53:07.262</td>\n",
       "      <td>0</td>\n",
       "      <td>True</td>\n",
       "      <td>5</td>\n",
       "      <td>[{'label': 'NEGATIVE', 'score': 0.997587800025...</td>\n",
       "    </tr>\n",
       "  </tbody>\n",
       "</table>\n",
       "</div>"
      ],
      "text/plain": [
       "   rating                                              title  \\\n",
       "0       4  12 mg is 12 on the periodic table people! Mg f...   \n",
       "1       5                 Save the lanet using less plastic.   \n",
       "2       5                                          Fantastic   \n",
       "3       4  It holds the water and makes bubbles.  That's ...   \n",
       "4       1                                         Not for me   \n",
       "\n",
       "                                                text images        asin  \\\n",
       "0  This review is more to clarify someone else’s ...     []  B07TDSJZMR   \n",
       "1  Love these easy multitasking bleach tablets. B...     []  B08637FWWF   \n",
       "2  I have been suffering a couple months with hee...     []  B07KJVGNN5   \n",
       "3  It's cheap and it does what I wanted.  The \"ma...     []  B007HY7GC2   \n",
       "4  Didn't do a thing for me. Not saying they don'...     []  B08KYJLF5T   \n",
       "\n",
       "  parent_asin                       user_id               timestamp  \\\n",
       "0  B07TDSJZMR  AFKZENTNBQ7A7V7UXW5JJI6UGRYQ 2020-02-06 00:49:35.902   \n",
       "1  B08637FWWF  AEVWAM3YWN5URJVJIZZ6XPD2MKIA 2020-11-02 22:03:06.880   \n",
       "2  B07KJVGNN5  AHSPLDNW5OOUK2PLH7GXLACFBZNQ 2019-07-24 11:13:58.905   \n",
       "3  B092RP73CX  AEZGPLOYTSAPR3DHZKKXEFPAXUAA 2022-09-04 02:29:02.725   \n",
       "4  B08KYJLF5T  AEQAYV7RXZEBXMQIQPL6KCT2CFWQ 2022-01-20 23:53:07.262   \n",
       "\n",
       "   helpful_vote  verified_purchase  id  \\\n",
       "0             3               True   1   \n",
       "1             3               True   2   \n",
       "2             0               True   3   \n",
       "3             7               True   4   \n",
       "4             0               True   5   \n",
       "\n",
       "                                           senti_res  \n",
       "0  [{'label': 'NEGATIVE', 'score': 0.978313386440...  \n",
       "1  [{'label': 'POSITIVE', 'score': 0.999182641506...  \n",
       "2  [{'label': 'NEGATIVE', 'score': 0.969690382480...  \n",
       "3  [{'label': 'NEGATIVE', 'score': 0.991963386535...  \n",
       "4  [{'label': 'NEGATIVE', 'score': 0.997587800025...  "
      ]
     },
     "execution_count": 27,
     "metadata": {},
     "output_type": "execute_result"
    }
   ],
   "source": [
    "data.head()"
   ]
  },
  {
   "cell_type": "code",
   "execution_count": 28,
   "id": "946a307f",
   "metadata": {},
   "outputs": [],
   "source": [
    "data=data.rename(columns={'text_y':'senti_res'})\n",
    "data=data.rename(columns={'text_x':'text'})"
   ]
  },
  {
   "cell_type": "code",
   "execution_count": 29,
   "id": "33b11890",
   "metadata": {
    "scrolled": true
   },
   "outputs": [
    {
     "data": {
      "text/html": [
       "<div>\n",
       "<style scoped>\n",
       "    .dataframe tbody tr th:only-of-type {\n",
       "        vertical-align: middle;\n",
       "    }\n",
       "\n",
       "    .dataframe tbody tr th {\n",
       "        vertical-align: top;\n",
       "    }\n",
       "\n",
       "    .dataframe thead th {\n",
       "        text-align: right;\n",
       "    }\n",
       "</style>\n",
       "<table border=\"1\" class=\"dataframe\">\n",
       "  <thead>\n",
       "    <tr style=\"text-align: right;\">\n",
       "      <th></th>\n",
       "      <th>rating</th>\n",
       "      <th>title</th>\n",
       "      <th>text</th>\n",
       "      <th>images</th>\n",
       "      <th>asin</th>\n",
       "      <th>parent_asin</th>\n",
       "      <th>user_id</th>\n",
       "      <th>timestamp</th>\n",
       "      <th>helpful_vote</th>\n",
       "      <th>verified_purchase</th>\n",
       "      <th>id</th>\n",
       "      <th>senti_res</th>\n",
       "    </tr>\n",
       "  </thead>\n",
       "  <tbody>\n",
       "    <tr>\n",
       "      <th>0</th>\n",
       "      <td>4</td>\n",
       "      <td>12 mg is 12 on the periodic table people! Mg f...</td>\n",
       "      <td>This review is more to clarify someone else’s ...</td>\n",
       "      <td>[]</td>\n",
       "      <td>B07TDSJZMR</td>\n",
       "      <td>B07TDSJZMR</td>\n",
       "      <td>AFKZENTNBQ7A7V7UXW5JJI6UGRYQ</td>\n",
       "      <td>2020-02-06 00:49:35.902</td>\n",
       "      <td>3</td>\n",
       "      <td>True</td>\n",
       "      <td>1</td>\n",
       "      <td>[{'label': 'NEGATIVE', 'score': 0.978313386440...</td>\n",
       "    </tr>\n",
       "    <tr>\n",
       "      <th>1</th>\n",
       "      <td>5</td>\n",
       "      <td>Save the lanet using less plastic.</td>\n",
       "      <td>Love these easy multitasking bleach tablets. B...</td>\n",
       "      <td>[]</td>\n",
       "      <td>B08637FWWF</td>\n",
       "      <td>B08637FWWF</td>\n",
       "      <td>AEVWAM3YWN5URJVJIZZ6XPD2MKIA</td>\n",
       "      <td>2020-11-02 22:03:06.880</td>\n",
       "      <td>3</td>\n",
       "      <td>True</td>\n",
       "      <td>2</td>\n",
       "      <td>[{'label': 'POSITIVE', 'score': 0.999182641506...</td>\n",
       "    </tr>\n",
       "    <tr>\n",
       "      <th>2</th>\n",
       "      <td>5</td>\n",
       "      <td>Fantastic</td>\n",
       "      <td>I have been suffering a couple months with hee...</td>\n",
       "      <td>[]</td>\n",
       "      <td>B07KJVGNN5</td>\n",
       "      <td>B07KJVGNN5</td>\n",
       "      <td>AHSPLDNW5OOUK2PLH7GXLACFBZNQ</td>\n",
       "      <td>2019-07-24 11:13:58.905</td>\n",
       "      <td>0</td>\n",
       "      <td>True</td>\n",
       "      <td>3</td>\n",
       "      <td>[{'label': 'NEGATIVE', 'score': 0.969690382480...</td>\n",
       "    </tr>\n",
       "    <tr>\n",
       "      <th>3</th>\n",
       "      <td>4</td>\n",
       "      <td>It holds the water and makes bubbles.  That's ...</td>\n",
       "      <td>It's cheap and it does what I wanted.  The \"ma...</td>\n",
       "      <td>[]</td>\n",
       "      <td>B007HY7GC2</td>\n",
       "      <td>B092RP73CX</td>\n",
       "      <td>AEZGPLOYTSAPR3DHZKKXEFPAXUAA</td>\n",
       "      <td>2022-09-04 02:29:02.725</td>\n",
       "      <td>7</td>\n",
       "      <td>True</td>\n",
       "      <td>4</td>\n",
       "      <td>[{'label': 'NEGATIVE', 'score': 0.991963386535...</td>\n",
       "    </tr>\n",
       "    <tr>\n",
       "      <th>4</th>\n",
       "      <td>1</td>\n",
       "      <td>Not for me</td>\n",
       "      <td>Didn't do a thing for me. Not saying they don'...</td>\n",
       "      <td>[]</td>\n",
       "      <td>B08KYJLF5T</td>\n",
       "      <td>B08KYJLF5T</td>\n",
       "      <td>AEQAYV7RXZEBXMQIQPL6KCT2CFWQ</td>\n",
       "      <td>2022-01-20 23:53:07.262</td>\n",
       "      <td>0</td>\n",
       "      <td>True</td>\n",
       "      <td>5</td>\n",
       "      <td>[{'label': 'NEGATIVE', 'score': 0.997587800025...</td>\n",
       "    </tr>\n",
       "  </tbody>\n",
       "</table>\n",
       "</div>"
      ],
      "text/plain": [
       "   rating                                              title  \\\n",
       "0       4  12 mg is 12 on the periodic table people! Mg f...   \n",
       "1       5                 Save the lanet using less plastic.   \n",
       "2       5                                          Fantastic   \n",
       "3       4  It holds the water and makes bubbles.  That's ...   \n",
       "4       1                                         Not for me   \n",
       "\n",
       "                                                text images        asin  \\\n",
       "0  This review is more to clarify someone else’s ...     []  B07TDSJZMR   \n",
       "1  Love these easy multitasking bleach tablets. B...     []  B08637FWWF   \n",
       "2  I have been suffering a couple months with hee...     []  B07KJVGNN5   \n",
       "3  It's cheap and it does what I wanted.  The \"ma...     []  B007HY7GC2   \n",
       "4  Didn't do a thing for me. Not saying they don'...     []  B08KYJLF5T   \n",
       "\n",
       "  parent_asin                       user_id               timestamp  \\\n",
       "0  B07TDSJZMR  AFKZENTNBQ7A7V7UXW5JJI6UGRYQ 2020-02-06 00:49:35.902   \n",
       "1  B08637FWWF  AEVWAM3YWN5URJVJIZZ6XPD2MKIA 2020-11-02 22:03:06.880   \n",
       "2  B07KJVGNN5  AHSPLDNW5OOUK2PLH7GXLACFBZNQ 2019-07-24 11:13:58.905   \n",
       "3  B092RP73CX  AEZGPLOYTSAPR3DHZKKXEFPAXUAA 2022-09-04 02:29:02.725   \n",
       "4  B08KYJLF5T  AEQAYV7RXZEBXMQIQPL6KCT2CFWQ 2022-01-20 23:53:07.262   \n",
       "\n",
       "   helpful_vote  verified_purchase  id  \\\n",
       "0             3               True   1   \n",
       "1             3               True   2   \n",
       "2             0               True   3   \n",
       "3             7               True   4   \n",
       "4             0               True   5   \n",
       "\n",
       "                                           senti_res  \n",
       "0  [{'label': 'NEGATIVE', 'score': 0.978313386440...  \n",
       "1  [{'label': 'POSITIVE', 'score': 0.999182641506...  \n",
       "2  [{'label': 'NEGATIVE', 'score': 0.969690382480...  \n",
       "3  [{'label': 'NEGATIVE', 'score': 0.991963386535...  \n",
       "4  [{'label': 'NEGATIVE', 'score': 0.997587800025...  "
      ]
     },
     "execution_count": 29,
     "metadata": {},
     "output_type": "execute_result"
    }
   ],
   "source": [
    "data.head()"
   ]
  },
  {
   "cell_type": "code",
   "execution_count": 43,
   "id": "fbce8ceb",
   "metadata": {},
   "outputs": [],
   "source": [
    "data['senti_lst'] = data['senti_res'].apply(lambda x:x.strip('['']'))"
   ]
  },
  {
   "cell_type": "code",
   "execution_count": 44,
   "id": "8b6cc6ea",
   "metadata": {},
   "outputs": [
    {
     "data": {
      "text/plain": [
       "0    {'label': 'NEGATIVE', 'score': 0.9783133864402...\n",
       "1    {'label': 'POSITIVE', 'score': 0.9991826415061...\n",
       "2    {'label': 'NEGATIVE', 'score': 0.9696903824806...\n",
       "3    {'label': 'NEGATIVE', 'score': 0.9919633865356...\n",
       "4    {'label': 'NEGATIVE', 'score': 0.9975878000259...\n",
       "Name: senti_lst, dtype: object"
      ]
     },
     "execution_count": 44,
     "metadata": {},
     "output_type": "execute_result"
    }
   ],
   "source": [
    "data['senti_lst'].head()"
   ]
  },
  {
   "cell_type": "code",
   "execution_count": 46,
   "id": "b0cf349b",
   "metadata": {},
   "outputs": [
    {
     "data": {
      "text/plain": [
       "str"
      ]
     },
     "execution_count": 46,
     "metadata": {},
     "output_type": "execute_result"
    }
   ],
   "source": [
    "type(data['senti_res'][0])"
   ]
  },
  {
   "cell_type": "code",
   "execution_count": 55,
   "id": "9b8fe772",
   "metadata": {},
   "outputs": [],
   "source": [
    "# def str2dict(x):\n",
    "#     return json.loads(x)\n",
    "import re\n",
    "import ast\n",
    "def str2dict(data):\n",
    "    x = ast.literal_eval(re.search('({.+})', data).group(0))\n",
    "    return x\n",
    "# {'Bar': 'value', /'Foo': '1002803'}"
   ]
  },
  {
   "cell_type": "code",
   "execution_count": 56,
   "id": "58c6b8cb",
   "metadata": {},
   "outputs": [
    {
     "data": {
      "text/plain": [
       "{'label': 'NEGATIVE', 'score': 0.9783133864402771}"
      ]
     },
     "execution_count": 56,
     "metadata": {},
     "output_type": "execute_result"
    }
   ],
   "source": [
    "data['SentiDict']=data['senti_lst'].apply(str2dict)\n",
    "data['SentiDict'][0]"
   ]
  },
  {
   "cell_type": "code",
   "execution_count": 57,
   "id": "96055e89",
   "metadata": {},
   "outputs": [
    {
     "data": {
      "text/plain": [
       "dict"
      ]
     },
     "execution_count": 57,
     "metadata": {},
     "output_type": "execute_result"
    }
   ],
   "source": [
    "type(data['SentiDict'][0])"
   ]
  },
  {
   "cell_type": "code",
   "execution_count": 58,
   "id": "9ecc98d2",
   "metadata": {},
   "outputs": [],
   "source": [
    "def extract_values(dic):\n",
    "    label = dic['label']\n",
    "    score = dic['score']\n",
    "    return label,score"
   ]
  },
  {
   "cell_type": "code",
   "execution_count": 61,
   "id": "7a5028b8",
   "metadata": {},
   "outputs": [],
   "source": [
    "data['senti_lst']=data['SentiDict'].apply(extract_values)"
   ]
  },
  {
   "cell_type": "code",
   "execution_count": 67,
   "id": "6fd4ad49",
   "metadata": {},
   "outputs": [],
   "source": [
    "# data.columns\n",
    "del data['label', 'score']"
   ]
  },
  {
   "cell_type": "code",
   "execution_count": 79,
   "id": "472f869a",
   "metadata": {},
   "outputs": [],
   "source": [
    "# del data['SentiDict']\n",
    "# del data['senti_res']#, \n",
    "# del data['label']#,\n",
    "del data['score']"
   ]
  },
  {
   "cell_type": "code",
   "execution_count": 80,
   "id": "95c517bb",
   "metadata": {},
   "outputs": [
    {
     "data": {
      "text/html": [
       "<div>\n",
       "<style scoped>\n",
       "    .dataframe tbody tr th:only-of-type {\n",
       "        vertical-align: middle;\n",
       "    }\n",
       "\n",
       "    .dataframe tbody tr th {\n",
       "        vertical-align: top;\n",
       "    }\n",
       "\n",
       "    .dataframe thead th {\n",
       "        text-align: right;\n",
       "    }\n",
       "</style>\n",
       "<table border=\"1\" class=\"dataframe\">\n",
       "  <thead>\n",
       "    <tr style=\"text-align: right;\">\n",
       "      <th></th>\n",
       "      <th>rating</th>\n",
       "      <th>title</th>\n",
       "      <th>text</th>\n",
       "      <th>images</th>\n",
       "      <th>asin</th>\n",
       "      <th>parent_asin</th>\n",
       "      <th>user_id</th>\n",
       "      <th>timestamp</th>\n",
       "      <th>helpful_vote</th>\n",
       "      <th>verified_purchase</th>\n",
       "      <th>id</th>\n",
       "      <th>senti_lst</th>\n",
       "    </tr>\n",
       "  </thead>\n",
       "  <tbody>\n",
       "    <tr>\n",
       "      <th>0</th>\n",
       "      <td>4</td>\n",
       "      <td>12 mg is 12 on the periodic table people! Mg f...</td>\n",
       "      <td>This review is more to clarify someone else’s ...</td>\n",
       "      <td>[]</td>\n",
       "      <td>B07TDSJZMR</td>\n",
       "      <td>B07TDSJZMR</td>\n",
       "      <td>AFKZENTNBQ7A7V7UXW5JJI6UGRYQ</td>\n",
       "      <td>2020-02-06 00:49:35.902</td>\n",
       "      <td>3</td>\n",
       "      <td>True</td>\n",
       "      <td>1</td>\n",
       "      <td>(NEGATIVE, 0.9783133864402771)</td>\n",
       "    </tr>\n",
       "    <tr>\n",
       "      <th>1</th>\n",
       "      <td>5</td>\n",
       "      <td>Save the lanet using less plastic.</td>\n",
       "      <td>Love these easy multitasking bleach tablets. B...</td>\n",
       "      <td>[]</td>\n",
       "      <td>B08637FWWF</td>\n",
       "      <td>B08637FWWF</td>\n",
       "      <td>AEVWAM3YWN5URJVJIZZ6XPD2MKIA</td>\n",
       "      <td>2020-11-02 22:03:06.880</td>\n",
       "      <td>3</td>\n",
       "      <td>True</td>\n",
       "      <td>2</td>\n",
       "      <td>(POSITIVE, 0.9991826415061951)</td>\n",
       "    </tr>\n",
       "    <tr>\n",
       "      <th>2</th>\n",
       "      <td>5</td>\n",
       "      <td>Fantastic</td>\n",
       "      <td>I have been suffering a couple months with hee...</td>\n",
       "      <td>[]</td>\n",
       "      <td>B07KJVGNN5</td>\n",
       "      <td>B07KJVGNN5</td>\n",
       "      <td>AHSPLDNW5OOUK2PLH7GXLACFBZNQ</td>\n",
       "      <td>2019-07-24 11:13:58.905</td>\n",
       "      <td>0</td>\n",
       "      <td>True</td>\n",
       "      <td>3</td>\n",
       "      <td>(NEGATIVE, 0.9696903824806213)</td>\n",
       "    </tr>\n",
       "    <tr>\n",
       "      <th>3</th>\n",
       "      <td>4</td>\n",
       "      <td>It holds the water and makes bubbles.  That's ...</td>\n",
       "      <td>It's cheap and it does what I wanted.  The \"ma...</td>\n",
       "      <td>[]</td>\n",
       "      <td>B007HY7GC2</td>\n",
       "      <td>B092RP73CX</td>\n",
       "      <td>AEZGPLOYTSAPR3DHZKKXEFPAXUAA</td>\n",
       "      <td>2022-09-04 02:29:02.725</td>\n",
       "      <td>7</td>\n",
       "      <td>True</td>\n",
       "      <td>4</td>\n",
       "      <td>(NEGATIVE, 0.9919633865356445)</td>\n",
       "    </tr>\n",
       "    <tr>\n",
       "      <th>4</th>\n",
       "      <td>1</td>\n",
       "      <td>Not for me</td>\n",
       "      <td>Didn't do a thing for me. Not saying they don'...</td>\n",
       "      <td>[]</td>\n",
       "      <td>B08KYJLF5T</td>\n",
       "      <td>B08KYJLF5T</td>\n",
       "      <td>AEQAYV7RXZEBXMQIQPL6KCT2CFWQ</td>\n",
       "      <td>2022-01-20 23:53:07.262</td>\n",
       "      <td>0</td>\n",
       "      <td>True</td>\n",
       "      <td>5</td>\n",
       "      <td>(NEGATIVE, 0.9975878000259399)</td>\n",
       "    </tr>\n",
       "  </tbody>\n",
       "</table>\n",
       "</div>"
      ],
      "text/plain": [
       "   rating                                              title  \\\n",
       "0       4  12 mg is 12 on the periodic table people! Mg f...   \n",
       "1       5                 Save the lanet using less plastic.   \n",
       "2       5                                          Fantastic   \n",
       "3       4  It holds the water and makes bubbles.  That's ...   \n",
       "4       1                                         Not for me   \n",
       "\n",
       "                                                text images        asin  \\\n",
       "0  This review is more to clarify someone else’s ...     []  B07TDSJZMR   \n",
       "1  Love these easy multitasking bleach tablets. B...     []  B08637FWWF   \n",
       "2  I have been suffering a couple months with hee...     []  B07KJVGNN5   \n",
       "3  It's cheap and it does what I wanted.  The \"ma...     []  B007HY7GC2   \n",
       "4  Didn't do a thing for me. Not saying they don'...     []  B08KYJLF5T   \n",
       "\n",
       "  parent_asin                       user_id               timestamp  \\\n",
       "0  B07TDSJZMR  AFKZENTNBQ7A7V7UXW5JJI6UGRYQ 2020-02-06 00:49:35.902   \n",
       "1  B08637FWWF  AEVWAM3YWN5URJVJIZZ6XPD2MKIA 2020-11-02 22:03:06.880   \n",
       "2  B07KJVGNN5  AHSPLDNW5OOUK2PLH7GXLACFBZNQ 2019-07-24 11:13:58.905   \n",
       "3  B092RP73CX  AEZGPLOYTSAPR3DHZKKXEFPAXUAA 2022-09-04 02:29:02.725   \n",
       "4  B08KYJLF5T  AEQAYV7RXZEBXMQIQPL6KCT2CFWQ 2022-01-20 23:53:07.262   \n",
       "\n",
       "   helpful_vote  verified_purchase  id                       senti_lst  \n",
       "0             3               True   1  (NEGATIVE, 0.9783133864402771)  \n",
       "1             3               True   2  (POSITIVE, 0.9991826415061951)  \n",
       "2             0               True   3  (NEGATIVE, 0.9696903824806213)  \n",
       "3             7               True   4  (NEGATIVE, 0.9919633865356445)  \n",
       "4             0               True   5  (NEGATIVE, 0.9975878000259399)  "
      ]
     },
     "execution_count": 80,
     "metadata": {},
     "output_type": "execute_result"
    }
   ],
   "source": [
    "data.head()"
   ]
  },
  {
   "cell_type": "code",
   "execution_count": 81,
   "id": "96c817dc",
   "metadata": {},
   "outputs": [],
   "source": [
    "data[['label','score']] = pd.DataFrame(data.senti_lst.tolist(), index= data.index)"
   ]
  },
  {
   "cell_type": "code",
   "execution_count": 82,
   "id": "79baef9a",
   "metadata": {},
   "outputs": [
    {
     "data": {
      "text/html": [
       "<div>\n",
       "<style scoped>\n",
       "    .dataframe tbody tr th:only-of-type {\n",
       "        vertical-align: middle;\n",
       "    }\n",
       "\n",
       "    .dataframe tbody tr th {\n",
       "        vertical-align: top;\n",
       "    }\n",
       "\n",
       "    .dataframe thead th {\n",
       "        text-align: right;\n",
       "    }\n",
       "</style>\n",
       "<table border=\"1\" class=\"dataframe\">\n",
       "  <thead>\n",
       "    <tr style=\"text-align: right;\">\n",
       "      <th></th>\n",
       "      <th>rating</th>\n",
       "      <th>title</th>\n",
       "      <th>text</th>\n",
       "      <th>images</th>\n",
       "      <th>asin</th>\n",
       "      <th>parent_asin</th>\n",
       "      <th>user_id</th>\n",
       "      <th>timestamp</th>\n",
       "      <th>helpful_vote</th>\n",
       "      <th>verified_purchase</th>\n",
       "      <th>id</th>\n",
       "      <th>senti_lst</th>\n",
       "      <th>label</th>\n",
       "      <th>score</th>\n",
       "    </tr>\n",
       "  </thead>\n",
       "  <tbody>\n",
       "    <tr>\n",
       "      <th>0</th>\n",
       "      <td>4</td>\n",
       "      <td>12 mg is 12 on the periodic table people! Mg f...</td>\n",
       "      <td>This review is more to clarify someone else’s ...</td>\n",
       "      <td>[]</td>\n",
       "      <td>B07TDSJZMR</td>\n",
       "      <td>B07TDSJZMR</td>\n",
       "      <td>AFKZENTNBQ7A7V7UXW5JJI6UGRYQ</td>\n",
       "      <td>2020-02-06 00:49:35.902</td>\n",
       "      <td>3</td>\n",
       "      <td>True</td>\n",
       "      <td>1</td>\n",
       "      <td>(NEGATIVE, 0.9783133864402771)</td>\n",
       "      <td>NEGATIVE</td>\n",
       "      <td>0.978313</td>\n",
       "    </tr>\n",
       "    <tr>\n",
       "      <th>1</th>\n",
       "      <td>5</td>\n",
       "      <td>Save the lanet using less plastic.</td>\n",
       "      <td>Love these easy multitasking bleach tablets. B...</td>\n",
       "      <td>[]</td>\n",
       "      <td>B08637FWWF</td>\n",
       "      <td>B08637FWWF</td>\n",
       "      <td>AEVWAM3YWN5URJVJIZZ6XPD2MKIA</td>\n",
       "      <td>2020-11-02 22:03:06.880</td>\n",
       "      <td>3</td>\n",
       "      <td>True</td>\n",
       "      <td>2</td>\n",
       "      <td>(POSITIVE, 0.9991826415061951)</td>\n",
       "      <td>POSITIVE</td>\n",
       "      <td>0.999183</td>\n",
       "    </tr>\n",
       "    <tr>\n",
       "      <th>2</th>\n",
       "      <td>5</td>\n",
       "      <td>Fantastic</td>\n",
       "      <td>I have been suffering a couple months with hee...</td>\n",
       "      <td>[]</td>\n",
       "      <td>B07KJVGNN5</td>\n",
       "      <td>B07KJVGNN5</td>\n",
       "      <td>AHSPLDNW5OOUK2PLH7GXLACFBZNQ</td>\n",
       "      <td>2019-07-24 11:13:58.905</td>\n",
       "      <td>0</td>\n",
       "      <td>True</td>\n",
       "      <td>3</td>\n",
       "      <td>(NEGATIVE, 0.9696903824806213)</td>\n",
       "      <td>NEGATIVE</td>\n",
       "      <td>0.969690</td>\n",
       "    </tr>\n",
       "    <tr>\n",
       "      <th>3</th>\n",
       "      <td>4</td>\n",
       "      <td>It holds the water and makes bubbles.  That's ...</td>\n",
       "      <td>It's cheap and it does what I wanted.  The \"ma...</td>\n",
       "      <td>[]</td>\n",
       "      <td>B007HY7GC2</td>\n",
       "      <td>B092RP73CX</td>\n",
       "      <td>AEZGPLOYTSAPR3DHZKKXEFPAXUAA</td>\n",
       "      <td>2022-09-04 02:29:02.725</td>\n",
       "      <td>7</td>\n",
       "      <td>True</td>\n",
       "      <td>4</td>\n",
       "      <td>(NEGATIVE, 0.9919633865356445)</td>\n",
       "      <td>NEGATIVE</td>\n",
       "      <td>0.991963</td>\n",
       "    </tr>\n",
       "    <tr>\n",
       "      <th>4</th>\n",
       "      <td>1</td>\n",
       "      <td>Not for me</td>\n",
       "      <td>Didn't do a thing for me. Not saying they don'...</td>\n",
       "      <td>[]</td>\n",
       "      <td>B08KYJLF5T</td>\n",
       "      <td>B08KYJLF5T</td>\n",
       "      <td>AEQAYV7RXZEBXMQIQPL6KCT2CFWQ</td>\n",
       "      <td>2022-01-20 23:53:07.262</td>\n",
       "      <td>0</td>\n",
       "      <td>True</td>\n",
       "      <td>5</td>\n",
       "      <td>(NEGATIVE, 0.9975878000259399)</td>\n",
       "      <td>NEGATIVE</td>\n",
       "      <td>0.997588</td>\n",
       "    </tr>\n",
       "  </tbody>\n",
       "</table>\n",
       "</div>"
      ],
      "text/plain": [
       "   rating                                              title  \\\n",
       "0       4  12 mg is 12 on the periodic table people! Mg f...   \n",
       "1       5                 Save the lanet using less plastic.   \n",
       "2       5                                          Fantastic   \n",
       "3       4  It holds the water and makes bubbles.  That's ...   \n",
       "4       1                                         Not for me   \n",
       "\n",
       "                                                text images        asin  \\\n",
       "0  This review is more to clarify someone else’s ...     []  B07TDSJZMR   \n",
       "1  Love these easy multitasking bleach tablets. B...     []  B08637FWWF   \n",
       "2  I have been suffering a couple months with hee...     []  B07KJVGNN5   \n",
       "3  It's cheap and it does what I wanted.  The \"ma...     []  B007HY7GC2   \n",
       "4  Didn't do a thing for me. Not saying they don'...     []  B08KYJLF5T   \n",
       "\n",
       "  parent_asin                       user_id               timestamp  \\\n",
       "0  B07TDSJZMR  AFKZENTNBQ7A7V7UXW5JJI6UGRYQ 2020-02-06 00:49:35.902   \n",
       "1  B08637FWWF  AEVWAM3YWN5URJVJIZZ6XPD2MKIA 2020-11-02 22:03:06.880   \n",
       "2  B07KJVGNN5  AHSPLDNW5OOUK2PLH7GXLACFBZNQ 2019-07-24 11:13:58.905   \n",
       "3  B092RP73CX  AEZGPLOYTSAPR3DHZKKXEFPAXUAA 2022-09-04 02:29:02.725   \n",
       "4  B08KYJLF5T  AEQAYV7RXZEBXMQIQPL6KCT2CFWQ 2022-01-20 23:53:07.262   \n",
       "\n",
       "   helpful_vote  verified_purchase  id                       senti_lst  \\\n",
       "0             3               True   1  (NEGATIVE, 0.9783133864402771)   \n",
       "1             3               True   2  (POSITIVE, 0.9991826415061951)   \n",
       "2             0               True   3  (NEGATIVE, 0.9696903824806213)   \n",
       "3             7               True   4  (NEGATIVE, 0.9919633865356445)   \n",
       "4             0               True   5  (NEGATIVE, 0.9975878000259399)   \n",
       "\n",
       "      label     score  \n",
       "0  NEGATIVE  0.978313  \n",
       "1  POSITIVE  0.999183  \n",
       "2  NEGATIVE  0.969690  \n",
       "3  NEGATIVE  0.991963  \n",
       "4  NEGATIVE  0.997588  "
      ]
     },
     "execution_count": 82,
     "metadata": {},
     "output_type": "execute_result"
    }
   ],
   "source": [
    "data.head()"
   ]
  },
  {
   "cell_type": "code",
   "execution_count": 83,
   "id": "a4221e63",
   "metadata": {},
   "outputs": [
    {
     "data": {
      "text/plain": [
       "Index(['rating', 'title', 'text', 'images', 'asin', 'parent_asin', 'user_id',\n",
       "       'timestamp', 'helpful_vote', 'verified_purchase', 'id', 'senti_lst',\n",
       "       'label', 'score'],\n",
       "      dtype='object')"
      ]
     },
     "execution_count": 83,
     "metadata": {},
     "output_type": "execute_result"
    }
   ],
   "source": [
    "data.columns"
   ]
  },
  {
   "cell_type": "code",
   "execution_count": 98,
   "id": "77351af5",
   "metadata": {},
   "outputs": [
    {
     "data": {
      "text/plain": [
       "POSITIVE    3248\n",
       "NEGATIVE    1679\n",
       "Name: label, dtype: int64"
      ]
     },
     "execution_count": 98,
     "metadata": {},
     "output_type": "execute_result"
    }
   ],
   "source": [
    "data.label.value_counts()"
   ]
  },
  {
   "cell_type": "code",
   "execution_count": 100,
   "id": "d66dbb13",
   "metadata": {},
   "outputs": [],
   "source": [
    "import matplotlib.pyplot as plt"
   ]
  },
  {
   "cell_type": "code",
   "execution_count": 104,
   "id": "b928ba2c",
   "metadata": {},
   "outputs": [
    {
     "data": {
      "image/png": "[encoded data removed]",
      "text/plain": [
       "<Figure size 500x300 with 1 Axes>"
      ]
     },
     "metadata": {},
     "output_type": "display_data"
    }
   ],
   "source": [
    "ax = data['rating'].value_counts().sort_index() \\\n",
    "    .plot(kind='bar',\n",
    "          title='Count of Reviews by Stars',\n",
    "          figsize=(5,3))\n",
    "ax.set_xlabel('Review Stars')\n",
    "plt.show()"
   ]
  },
  {
   "cell_type": "code",
   "execution_count": 133,
   "id": "5bbeca50",
   "metadata": {},
   "outputs": [],
   "source": [
    "pos=data[data['label']=='POSITIVE']"
   ]
  },
  {
   "cell_type": "code",
   "execution_count": 134,
   "id": "08306bd8",
   "metadata": {},
   "outputs": [
    {
     "data": {
      "text/html": [
       "<div>\n",
       "<style scoped>\n",
       "    .dataframe tbody tr th:only-of-type {\n",
       "        vertical-align: middle;\n",
       "    }\n",
       "\n",
       "    .dataframe tbody tr th {\n",
       "        vertical-align: top;\n",
       "    }\n",
       "\n",
       "    .dataframe thead th {\n",
       "        text-align: right;\n",
       "    }\n",
       "</style>\n",
       "<table border=\"1\" class=\"dataframe\">\n",
       "  <thead>\n",
       "    <tr style=\"text-align: right;\">\n",
       "      <th></th>\n",
       "      <th>rating</th>\n",
       "      <th>title</th>\n",
       "      <th>text</th>\n",
       "      <th>images</th>\n",
       "      <th>asin</th>\n",
       "      <th>parent_asin</th>\n",
       "      <th>user_id</th>\n",
       "      <th>timestamp</th>\n",
       "      <th>helpful_vote</th>\n",
       "      <th>verified_purchase</th>\n",
       "      <th>id</th>\n",
       "      <th>senti_lst</th>\n",
       "      <th>label</th>\n",
       "      <th>score</th>\n",
       "    </tr>\n",
       "  </thead>\n",
       "  <tbody>\n",
       "    <tr>\n",
       "      <th>1</th>\n",
       "      <td>5</td>\n",
       "      <td>Save the lanet using less plastic.</td>\n",
       "      <td>Love these easy multitasking bleach tablets. B...</td>\n",
       "      <td>[]</td>\n",
       "      <td>B08637FWWF</td>\n",
       "      <td>B08637FWWF</td>\n",
       "      <td>AEVWAM3YWN5URJVJIZZ6XPD2MKIA</td>\n",
       "      <td>2020-11-02 22:03:06.880</td>\n",
       "      <td>3</td>\n",
       "      <td>True</td>\n",
       "      <td>2</td>\n",
       "      <td>(POSITIVE, 0.9991826415061951)</td>\n",
       "      <td>POSITIVE</td>\n",
       "      <td>0.999183</td>\n",
       "    </tr>\n",
       "    <tr>\n",
       "      <th>5</th>\n",
       "      <td>5</td>\n",
       "      <td>Every home should have these</td>\n",
       "      <td>I have never been big on vitamins, with the ex...</td>\n",
       "      <td>[]</td>\n",
       "      <td>B09GBMG83Z</td>\n",
       "      <td>B09GBMG83Z</td>\n",
       "      <td>AFSKPY37N3C43SOI5IEXEK5JSIYA</td>\n",
       "      <td>2022-02-21 00:14:54.796</td>\n",
       "      <td>1</td>\n",
       "      <td>False</td>\n",
       "      <td>6</td>\n",
       "      <td>(POSITIVE, 0.9841381907463074)</td>\n",
       "      <td>POSITIVE</td>\n",
       "      <td>0.984138</td>\n",
       "    </tr>\n",
       "    <tr>\n",
       "      <th>6</th>\n",
       "      <td>4</td>\n",
       "      <td>Versatile shaver</td>\n",
       "      <td>To be honest, my husband did not use this for ...</td>\n",
       "      <td>[]</td>\n",
       "      <td>B09FKT5PQ9</td>\n",
       "      <td>B09FKT5PQ9</td>\n",
       "      <td>AFSKPY37N3C43SOI5IEXEK5JSIYA</td>\n",
       "      <td>2022-02-07 20:38:46.005</td>\n",
       "      <td>0</td>\n",
       "      <td>False</td>\n",
       "      <td>7</td>\n",
       "      <td>(POSITIVE, 0.9983637928962708)</td>\n",
       "      <td>POSITIVE</td>\n",
       "      <td>0.998364</td>\n",
       "    </tr>\n",
       "    <tr>\n",
       "      <th>7</th>\n",
       "      <td>4</td>\n",
       "      <td>Makes a nice compact noise machine to take wit...</td>\n",
       "      <td>This is a nice basic sound machine. I have use...</td>\n",
       "      <td>[]</td>\n",
       "      <td>B08THJD1MH</td>\n",
       "      <td>B08THJD1MH</td>\n",
       "      <td>AFSKPY37N3C43SOI5IEXEK5JSIYA</td>\n",
       "      <td>2021-04-08 18:45:34.645</td>\n",
       "      <td>0</td>\n",
       "      <td>False</td>\n",
       "      <td>8</td>\n",
       "      <td>(POSITIVE, 0.9922720193862915)</td>\n",
       "      <td>POSITIVE</td>\n",
       "      <td>0.992272</td>\n",
       "    </tr>\n",
       "    <tr>\n",
       "      <th>8</th>\n",
       "      <td>5</td>\n",
       "      <td>Great drawstring holiday bags!</td>\n",
       "      <td>This are super colorful great gift giving holi...</td>\n",
       "      <td>[]</td>\n",
       "      <td>B08FCQML37</td>\n",
       "      <td>B08FCQML37</td>\n",
       "      <td>AFSKPY37N3C43SOI5IEXEK5JSIYA</td>\n",
       "      <td>2020-12-15 21:15:39.529</td>\n",
       "      <td>0</td>\n",
       "      <td>False</td>\n",
       "      <td>9</td>\n",
       "      <td>(POSITIVE, 0.9998494386672974)</td>\n",
       "      <td>POSITIVE</td>\n",
       "      <td>0.999849</td>\n",
       "    </tr>\n",
       "    <tr>\n",
       "      <th>...</th>\n",
       "      <td>...</td>\n",
       "      <td>...</td>\n",
       "      <td>...</td>\n",
       "      <td>...</td>\n",
       "      <td>...</td>\n",
       "      <td>...</td>\n",
       "      <td>...</td>\n",
       "      <td>...</td>\n",
       "      <td>...</td>\n",
       "      <td>...</td>\n",
       "      <td>...</td>\n",
       "      <td>...</td>\n",
       "      <td>...</td>\n",
       "      <td>...</td>\n",
       "    </tr>\n",
       "    <tr>\n",
       "      <th>4917</th>\n",
       "      <td>5</td>\n",
       "      <td>Good supplement</td>\n",
       "      <td>Great supplement</td>\n",
       "      <td>[]</td>\n",
       "      <td>B07ZPK5SRD</td>\n",
       "      <td>B07ZPK5SRD</td>\n",
       "      <td>AFFAHZZ6TXM6D6OPE6GJ5ZD5QEKQ</td>\n",
       "      <td>2020-04-23 17:43:53.344</td>\n",
       "      <td>0</td>\n",
       "      <td>True</td>\n",
       "      <td>4918</td>\n",
       "      <td>(POSITIVE, 0.9996775388717651)</td>\n",
       "      <td>POSITIVE</td>\n",
       "      <td>0.999678</td>\n",
       "    </tr>\n",
       "    <tr>\n",
       "      <th>4921</th>\n",
       "      <td>5</td>\n",
       "      <td>Quality</td>\n",
       "      <td>All around nice product good amount for the pr...</td>\n",
       "      <td>[]</td>\n",
       "      <td>B07HHJ2H2L</td>\n",
       "      <td>B07HHJ2H2L</td>\n",
       "      <td>AE3A4IYU4JY73JI5QSIKOVYKRV6A</td>\n",
       "      <td>2019-05-01 12:50:57.073</td>\n",
       "      <td>0</td>\n",
       "      <td>True</td>\n",
       "      <td>4922</td>\n",
       "      <td>(POSITIVE, 0.9971398115158081)</td>\n",
       "      <td>POSITIVE</td>\n",
       "      <td>0.997140</td>\n",
       "    </tr>\n",
       "    <tr>\n",
       "      <th>4923</th>\n",
       "      <td>5</td>\n",
       "      <td>Sporty clothes protector</td>\n",
       "      <td>Everyone that see's this on my Dad just loves it.</td>\n",
       "      <td>[]</td>\n",
       "      <td>B00ZR8OISU</td>\n",
       "      <td>B00ZR8OISU</td>\n",
       "      <td>AFCJA6WHBTBORS4IM4NXGFOSUU2A</td>\n",
       "      <td>2016-05-31 20:45:04.000</td>\n",
       "      <td>1</td>\n",
       "      <td>True</td>\n",
       "      <td>4924</td>\n",
       "      <td>(POSITIVE, 0.9997459053993225)</td>\n",
       "      <td>POSITIVE</td>\n",
       "      <td>0.999746</td>\n",
       "    </tr>\n",
       "    <tr>\n",
       "      <th>4924</th>\n",
       "      <td>5</td>\n",
       "      <td>Five Stars</td>\n",
       "      <td>Great way to get vitamin C that isn't from cor...</td>\n",
       "      <td>[]</td>\n",
       "      <td>B011J478G4</td>\n",
       "      <td>B011J478G4</td>\n",
       "      <td>AFTJNP45GRWVGDWRHHYO2AXC7TRA</td>\n",
       "      <td>2016-05-13 15:12:01.000</td>\n",
       "      <td>0</td>\n",
       "      <td>True</td>\n",
       "      <td>4925</td>\n",
       "      <td>(POSITIVE, 0.9898002743721008)</td>\n",
       "      <td>POSITIVE</td>\n",
       "      <td>0.989800</td>\n",
       "    </tr>\n",
       "    <tr>\n",
       "      <th>4926</th>\n",
       "      <td>5</td>\n",
       "      <td>Five Stars</td>\n",
       "      <td>Great Scale</td>\n",
       "      <td>[]</td>\n",
       "      <td>B074SJK6RT</td>\n",
       "      <td>B074SJK6RT</td>\n",
       "      <td>AGMKI2WM7WHGJH6FJWCCHNRBUQRQ</td>\n",
       "      <td>2018-04-20 11:05:27.907</td>\n",
       "      <td>0</td>\n",
       "      <td>True</td>\n",
       "      <td>4927</td>\n",
       "      <td>(POSITIVE, 0.999873161315918)</td>\n",
       "      <td>POSITIVE</td>\n",
       "      <td>0.999873</td>\n",
       "    </tr>\n",
       "  </tbody>\n",
       "</table>\n",
       "<p>3248 rows × 14 columns</p>\n",
       "</div>"
      ],
      "text/plain": [
       "      rating                                              title  \\\n",
       "1          5                 Save the lanet using less plastic.   \n",
       "5          5                       Every home should have these   \n",
       "6          4                                   Versatile shaver   \n",
       "7          4  Makes a nice compact noise machine to take wit...   \n",
       "8          5                     Great drawstring holiday bags!   \n",
       "...      ...                                                ...   \n",
       "4917       5                                    Good supplement   \n",
       "4921       5                                            Quality   \n",
       "4923       5                           Sporty clothes protector   \n",
       "4924       5                                         Five Stars   \n",
       "4926       5                                         Five Stars   \n",
       "\n",
       "                                                   text images        asin  \\\n",
       "1     Love these easy multitasking bleach tablets. B...     []  B08637FWWF   \n",
       "5     I have never been big on vitamins, with the ex...     []  B09GBMG83Z   \n",
       "6     To be honest, my husband did not use this for ...     []  B09FKT5PQ9   \n",
       "7     This is a nice basic sound machine. I have use...     []  B08THJD1MH   \n",
       "8     This are super colorful great gift giving holi...     []  B08FCQML37   \n",
       "...                                                 ...    ...         ...   \n",
       "4917                                   Great supplement     []  B07ZPK5SRD   \n",
       "4921  All around nice product good amount for the pr...     []  B07HHJ2H2L   \n",
       "4923  Everyone that see's this on my Dad just loves it.     []  B00ZR8OISU   \n",
       "4924  Great way to get vitamin C that isn't from cor...     []  B011J478G4   \n",
       "4926                                        Great Scale     []  B074SJK6RT   \n",
       "\n",
       "     parent_asin                       user_id               timestamp  \\\n",
       "1     B08637FWWF  AEVWAM3YWN5URJVJIZZ6XPD2MKIA 2020-11-02 22:03:06.880   \n",
       "5     B09GBMG83Z  AFSKPY37N3C43SOI5IEXEK5JSIYA 2022-02-21 00:14:54.796   \n",
       "6     B09FKT5PQ9  AFSKPY37N3C43SOI5IEXEK5JSIYA 2022-02-07 20:38:46.005   \n",
       "7     B08THJD1MH  AFSKPY37N3C43SOI5IEXEK5JSIYA 2021-04-08 18:45:34.645   \n",
       "8     B08FCQML37  AFSKPY37N3C43SOI5IEXEK5JSIYA 2020-12-15 21:15:39.529   \n",
       "...          ...                           ...                     ...   \n",
       "4917  B07ZPK5SRD  AFFAHZZ6TXM6D6OPE6GJ5ZD5QEKQ 2020-04-23 17:43:53.344   \n",
       "4921  B07HHJ2H2L  AE3A4IYU4JY73JI5QSIKOVYKRV6A 2019-05-01 12:50:57.073   \n",
       "4923  B00ZR8OISU  AFCJA6WHBTBORS4IM4NXGFOSUU2A 2016-05-31 20:45:04.000   \n",
       "4924  B011J478G4  AFTJNP45GRWVGDWRHHYO2AXC7TRA 2016-05-13 15:12:01.000   \n",
       "4926  B074SJK6RT  AGMKI2WM7WHGJH6FJWCCHNRBUQRQ 2018-04-20 11:05:27.907   \n",
       "\n",
       "      helpful_vote  verified_purchase    id                       senti_lst  \\\n",
       "1                3               True     2  (POSITIVE, 0.9991826415061951)   \n",
       "5                1              False     6  (POSITIVE, 0.9841381907463074)   \n",
       "6                0              False     7  (POSITIVE, 0.9983637928962708)   \n",
       "7                0              False     8  (POSITIVE, 0.9922720193862915)   \n",
       "8                0              False     9  (POSITIVE, 0.9998494386672974)   \n",
       "...            ...                ...   ...                             ...   \n",
       "4917             0               True  4918  (POSITIVE, 0.9996775388717651)   \n",
       "4921             0               True  4922  (POSITIVE, 0.9971398115158081)   \n",
       "4923             1               True  4924  (POSITIVE, 0.9997459053993225)   \n",
       "4924             0               True  4925  (POSITIVE, 0.9898002743721008)   \n",
       "4926             0               True  4927   (POSITIVE, 0.999873161315918)   \n",
       "\n",
       "         label     score  \n",
       "1     POSITIVE  0.999183  \n",
       "5     POSITIVE  0.984138  \n",
       "6     POSITIVE  0.998364  \n",
       "7     POSITIVE  0.992272  \n",
       "8     POSITIVE  0.999849  \n",
       "...        ...       ...  \n",
       "4917  POSITIVE  0.999678  \n",
       "4921  POSITIVE  0.997140  \n",
       "4923  POSITIVE  0.999746  \n",
       "4924  POSITIVE  0.989800  \n",
       "4926  POSITIVE  0.999873  \n",
       "\n",
       "[3248 rows x 14 columns]"
      ]
     },
     "execution_count": 134,
     "metadata": {},
     "output_type": "execute_result"
    }
   ],
   "source": [
    "pos"
   ]
  },
  {
   "cell_type": "code",
   "execution_count": 152,
   "id": "0035b273",
   "metadata": {},
   "outputs": [],
   "source": [
    "neg=data[data['label']=='NEGATIVE']"
   ]
  },
  {
   "cell_type": "code",
   "execution_count": 157,
   "id": "0bca6bfc",
   "metadata": {},
   "outputs": [
    {
     "data": {
      "text/html": [
       "<div>\n",
       "<style scoped>\n",
       "    .dataframe tbody tr th:only-of-type {\n",
       "        vertical-align: middle;\n",
       "    }\n",
       "\n",
       "    .dataframe tbody tr th {\n",
       "        vertical-align: top;\n",
       "    }\n",
       "\n",
       "    .dataframe thead th {\n",
       "        text-align: right;\n",
       "    }\n",
       "</style>\n",
       "<table border=\"1\" class=\"dataframe\">\n",
       "  <thead>\n",
       "    <tr style=\"text-align: right;\">\n",
       "      <th></th>\n",
       "      <th>rating</th>\n",
       "      <th>title</th>\n",
       "      <th>text</th>\n",
       "      <th>images</th>\n",
       "      <th>asin</th>\n",
       "      <th>parent_asin</th>\n",
       "      <th>user_id</th>\n",
       "      <th>timestamp</th>\n",
       "      <th>helpful_vote</th>\n",
       "      <th>verified_purchase</th>\n",
       "      <th>id</th>\n",
       "      <th>senti_lst</th>\n",
       "      <th>label</th>\n",
       "      <th>score</th>\n",
       "    </tr>\n",
       "  </thead>\n",
       "  <tbody>\n",
       "    <tr>\n",
       "      <th>0</th>\n",
       "      <td>4</td>\n",
       "      <td>12 mg is 12 on the periodic table people! Mg f...</td>\n",
       "      <td>This review is more to clarify someone else’s ...</td>\n",
       "      <td>[]</td>\n",
       "      <td>B07TDSJZMR</td>\n",
       "      <td>B07TDSJZMR</td>\n",
       "      <td>AFKZENTNBQ7A7V7UXW5JJI6UGRYQ</td>\n",
       "      <td>2020-02-06 00:49:35.902</td>\n",
       "      <td>3</td>\n",
       "      <td>True</td>\n",
       "      <td>1</td>\n",
       "      <td>(NEGATIVE, 0.9783133864402771)</td>\n",
       "      <td>NEGATIVE</td>\n",
       "      <td>0.978313</td>\n",
       "    </tr>\n",
       "    <tr>\n",
       "      <th>2</th>\n",
       "      <td>5</td>\n",
       "      <td>Fantastic</td>\n",
       "      <td>I have been suffering a couple months with hee...</td>\n",
       "      <td>[]</td>\n",
       "      <td>B07KJVGNN5</td>\n",
       "      <td>B07KJVGNN5</td>\n",
       "      <td>AHSPLDNW5OOUK2PLH7GXLACFBZNQ</td>\n",
       "      <td>2019-07-24 11:13:58.905</td>\n",
       "      <td>0</td>\n",
       "      <td>True</td>\n",
       "      <td>3</td>\n",
       "      <td>(NEGATIVE, 0.9696903824806213)</td>\n",
       "      <td>NEGATIVE</td>\n",
       "      <td>0.969690</td>\n",
       "    </tr>\n",
       "    <tr>\n",
       "      <th>3</th>\n",
       "      <td>4</td>\n",
       "      <td>It holds the water and makes bubbles.  That's ...</td>\n",
       "      <td>It's cheap and it does what I wanted.  The \"ma...</td>\n",
       "      <td>[]</td>\n",
       "      <td>B007HY7GC2</td>\n",
       "      <td>B092RP73CX</td>\n",
       "      <td>AEZGPLOYTSAPR3DHZKKXEFPAXUAA</td>\n",
       "      <td>2022-09-04 02:29:02.725</td>\n",
       "      <td>7</td>\n",
       "      <td>True</td>\n",
       "      <td>4</td>\n",
       "      <td>(NEGATIVE, 0.9919633865356445)</td>\n",
       "      <td>NEGATIVE</td>\n",
       "      <td>0.991963</td>\n",
       "    </tr>\n",
       "    <tr>\n",
       "      <th>4</th>\n",
       "      <td>1</td>\n",
       "      <td>Not for me</td>\n",
       "      <td>Didn't do a thing for me. Not saying they don'...</td>\n",
       "      <td>[]</td>\n",
       "      <td>B08KYJLF5T</td>\n",
       "      <td>B08KYJLF5T</td>\n",
       "      <td>AEQAYV7RXZEBXMQIQPL6KCT2CFWQ</td>\n",
       "      <td>2022-01-20 23:53:07.262</td>\n",
       "      <td>0</td>\n",
       "      <td>True</td>\n",
       "      <td>5</td>\n",
       "      <td>(NEGATIVE, 0.9975878000259399)</td>\n",
       "      <td>NEGATIVE</td>\n",
       "      <td>0.997588</td>\n",
       "    </tr>\n",
       "    <tr>\n",
       "      <th>9</th>\n",
       "      <td>3</td>\n",
       "      <td>Not as good as the name brand whitening strips...</td>\n",
       "      <td>I guess the only product I have in my history ...</td>\n",
       "      <td>[]</td>\n",
       "      <td>B08GYM3HVP</td>\n",
       "      <td>B08GYM3HVP</td>\n",
       "      <td>AFSKPY37N3C43SOI5IEXEK5JSIYA</td>\n",
       "      <td>2020-10-14 21:25:18.369</td>\n",
       "      <td>0</td>\n",
       "      <td>False</td>\n",
       "      <td>10</td>\n",
       "      <td>(NEGATIVE, 0.9958051443099976)</td>\n",
       "      <td>NEGATIVE</td>\n",
       "      <td>0.995805</td>\n",
       "    </tr>\n",
       "  </tbody>\n",
       "</table>\n",
       "</div>"
      ],
      "text/plain": [
       "   rating                                              title  \\\n",
       "0       4  12 mg is 12 on the periodic table people! Mg f...   \n",
       "2       5                                          Fantastic   \n",
       "3       4  It holds the water and makes bubbles.  That's ...   \n",
       "4       1                                         Not for me   \n",
       "9       3  Not as good as the name brand whitening strips...   \n",
       "\n",
       "                                                text images        asin  \\\n",
       "0  This review is more to clarify someone else’s ...     []  B07TDSJZMR   \n",
       "2  I have been suffering a couple months with hee...     []  B07KJVGNN5   \n",
       "3  It's cheap and it does what I wanted.  The \"ma...     []  B007HY7GC2   \n",
       "4  Didn't do a thing for me. Not saying they don'...     []  B08KYJLF5T   \n",
       "9  I guess the only product I have in my history ...     []  B08GYM3HVP   \n",
       "\n",
       "  parent_asin                       user_id               timestamp  \\\n",
       "0  B07TDSJZMR  AFKZENTNBQ7A7V7UXW5JJI6UGRYQ 2020-02-06 00:49:35.902   \n",
       "2  B07KJVGNN5  AHSPLDNW5OOUK2PLH7GXLACFBZNQ 2019-07-24 11:13:58.905   \n",
       "3  B092RP73CX  AEZGPLOYTSAPR3DHZKKXEFPAXUAA 2022-09-04 02:29:02.725   \n",
       "4  B08KYJLF5T  AEQAYV7RXZEBXMQIQPL6KCT2CFWQ 2022-01-20 23:53:07.262   \n",
       "9  B08GYM3HVP  AFSKPY37N3C43SOI5IEXEK5JSIYA 2020-10-14 21:25:18.369   \n",
       "\n",
       "   helpful_vote  verified_purchase  id                       senti_lst  \\\n",
       "0             3               True   1  (NEGATIVE, 0.9783133864402771)   \n",
       "2             0               True   3  (NEGATIVE, 0.9696903824806213)   \n",
       "3             7               True   4  (NEGATIVE, 0.9919633865356445)   \n",
       "4             0               True   5  (NEGATIVE, 0.9975878000259399)   \n",
       "9             0              False  10  (NEGATIVE, 0.9958051443099976)   \n",
       "\n",
       "      label     score  \n",
       "0  NEGATIVE  0.978313  \n",
       "2  NEGATIVE  0.969690  \n",
       "3  NEGATIVE  0.991963  \n",
       "4  NEGATIVE  0.997588  \n",
       "9  NEGATIVE  0.995805  "
      ]
     },
     "execution_count": 157,
     "metadata": {},
     "output_type": "execute_result"
    }
   ],
   "source": [
    "neg.head()"
   ]
  },
  {
   "cell_type": "code",
   "execution_count": 163,
   "id": "d1dad6b7",
   "metadata": {},
   "outputs": [
    {
     "data": {
      "text/plain": [
       "5    2487\n",
       "4     595\n",
       "3     120\n",
       "1      26\n",
       "2      20\n",
       "Name: rating, dtype: int64"
      ]
     },
     "execution_count": 163,
     "metadata": {},
     "output_type": "execute_result"
    }
   ],
   "source": [
    "pos.rating.value_counts()"
   ]
  },
  {
   "cell_type": "code",
   "execution_count": 161,
   "id": "efc395c1",
   "metadata": {},
   "outputs": [
    {
     "data": {
      "text/plain": [
       "Text(0, 0.5, 'Count')"
      ]
     },
     "execution_count": 161,
     "metadata": {},
     "output_type": "execute_result"
    },
    {
     "data": {
      "image/png": "[encoded data removed]",
      "text/plain": [
       "<Figure size 640x480 with 1 Axes>"
      ]
     },
     "metadata": {},
     "output_type": "display_data"
    }
   ],
   "source": [
    "pos.rating.value_counts().sort_index().plot(kind='bar')\n",
    "plt.xlabel('Rating')\n",
    "plt.ylabel('Count')"
   ]
  },
  {
   "cell_type": "code",
   "execution_count": 162,
   "id": "f9af86c6",
   "metadata": {},
   "outputs": [
    {
     "data": {
      "text/plain": [
       "5    493\n",
       "1    347\n",
       "4    326\n",
       "3    323\n",
       "2    190\n",
       "Name: rating, dtype: int64"
      ]
     },
     "execution_count": 162,
     "metadata": {},
     "output_type": "execute_result"
    }
   ],
   "source": [
    "neg.rating.value_counts()"
   ]
  },
  {
   "cell_type": "code",
   "execution_count": 160,
   "id": "15b6b774",
   "metadata": {},
   "outputs": [
    {
     "data": {
      "text/plain": [
       "Text(0, 0.5, 'Count')"
      ]
     },
     "execution_count": 160,
     "metadata": {},
     "output_type": "execute_result"
    },
    {
     "data": {
      "image/png": "[encoded data removed]",
      "text/plain": [
       "<Figure size 640x480 with 1 Axes>"
      ]
     },
     "metadata": {},
     "output_type": "display_data"
    }
   ],
   "source": [
    "neg.rating.value_counts().sort_index().plot(kind='bar')\n",
    "plt.xlabel('Rating')\n",
    "plt.ylabel('Count')"
   ]
  },
  {
   "cell_type": "code",
   "execution_count": 156,
   "id": "841a7452",
   "metadata": {},
   "outputs": [],
   "source": [
    "data.to_csv('/Users/sunkeswaramsreeja/Desktop/overall_data.csv', index=False)"
   ]
  },
  {
   "cell_type": "code",
   "execution_count": 171,
   "id": "4fd99ae5",
   "metadata": {},
   "outputs": [
    {
     "data": {
      "text/html": [
       "<div>\n",
       "<style scoped>\n",
       "    .dataframe tbody tr th:only-of-type {\n",
       "        vertical-align: middle;\n",
       "    }\n",
       "\n",
       "    .dataframe tbody tr th {\n",
       "        vertical-align: top;\n",
       "    }\n",
       "\n",
       "    .dataframe thead th {\n",
       "        text-align: right;\n",
       "    }\n",
       "</style>\n",
       "<table border=\"1\" class=\"dataframe\">\n",
       "  <thead>\n",
       "    <tr style=\"text-align: right;\">\n",
       "      <th></th>\n",
       "      <th>text</th>\n",
       "    </tr>\n",
       "  </thead>\n",
       "  <tbody>\n",
       "    <tr>\n",
       "      <th>2</th>\n",
       "      <td>I have been suffering a couple months with hee...</td>\n",
       "    </tr>\n",
       "    <tr>\n",
       "      <th>17</th>\n",
       "      <td>it was a nice tray  smaller than i expected bu...</td>\n",
       "    </tr>\n",
       "    <tr>\n",
       "      <th>23</th>\n",
       "      <td>In this day and age of excessive hand washing ...</td>\n",
       "    </tr>\n",
       "    <tr>\n",
       "      <th>47</th>\n",
       "      <td>I’ve only used these cups a few times as my hu...</td>\n",
       "    </tr>\n",
       "    <tr>\n",
       "      <th>51</th>\n",
       "      <td>I'm kind of between a 6 and a 6 1/2 so some sh...</td>\n",
       "    </tr>\n",
       "    <tr>\n",
       "      <th>...</th>\n",
       "      <td>...</td>\n",
       "    </tr>\n",
       "    <tr>\n",
       "      <th>4867</th>\n",
       "      <td>70% alcohol was hard to find and somewhat expe...</td>\n",
       "    </tr>\n",
       "    <tr>\n",
       "      <th>4875</th>\n",
       "      <td>I had a very expensive dental guard made by my...</td>\n",
       "    </tr>\n",
       "    <tr>\n",
       "      <th>4884</th>\n",
       "      <td>These clippers are a strong sturdy and sharp b...</td>\n",
       "    </tr>\n",
       "    <tr>\n",
       "      <th>4888</th>\n",
       "      <td>Supplements were a great deal, cheaper than th...</td>\n",
       "    </tr>\n",
       "    <tr>\n",
       "      <th>4922</th>\n",
       "      <td>Used this to make bubble bars i had no issues ...</td>\n",
       "    </tr>\n",
       "  </tbody>\n",
       "</table>\n",
       "<p>493 rows × 1 columns</p>\n",
       "</div>"
      ],
      "text/plain": [
       "                                                   text\n",
       "2     I have been suffering a couple months with hee...\n",
       "17    it was a nice tray  smaller than i expected bu...\n",
       "23    In this day and age of excessive hand washing ...\n",
       "47    I’ve only used these cups a few times as my hu...\n",
       "51    I'm kind of between a 6 and a 6 1/2 so some sh...\n",
       "...                                                 ...\n",
       "4867  70% alcohol was hard to find and somewhat expe...\n",
       "4875  I had a very expensive dental guard made by my...\n",
       "4884  These clippers are a strong sturdy and sharp b...\n",
       "4888  Supplements were a great deal, cheaper than th...\n",
       "4922  Used this to make bubble bars i had no issues ...\n",
       "\n",
       "[493 rows x 1 columns]"
      ]
     },
     "execution_count": 171,
     "metadata": {},
     "output_type": "execute_result"
    }
   ],
   "source": [
    "neg.query(\"rating==5\")[['text']]"
   ]
  },
  {
   "cell_type": "code",
   "execution_count": 179,
   "id": "b7b426bf",
   "metadata": {},
   "outputs": [
    {
     "data": {
      "text/plain": [
       "\"I have been suffering a couple months with heel pain from plantar fasciitis.  I thought I'd give these a try and wow, I was surprised at how much they cut down on the pain.  I wish they came in a tighter and thicker version.\""
      ]
     },
     "execution_count": 179,
     "metadata": {},
     "output_type": "execute_result"
    }
   ],
   "source": [
    "data['text'].iloc[2]"
   ]
  },
  {
   "cell_type": "code",
   "execution_count": 177,
   "id": "cccbcdf5",
   "metadata": {},
   "outputs": [
    {
     "data": {
      "text/plain": [
       "'NEGATIVE'"
      ]
     },
     "execution_count": 177,
     "metadata": {},
     "output_type": "execute_result"
    }
   ],
   "source": [
    "data['label'].iloc[2]"
   ]
  },
  {
   "cell_type": "code",
   "execution_count": null,
   "id": "c79d7175",
   "metadata": {},
   "outputs": [],
   "source": [
    "#it was a nice tray  smaller than i expected but my walker has  rubber grips and the tray didnt fit over it  - now what do i do ?  buy a new walker ?  idk what to do to be honest  im assuming all trays will have the same issue due to those grips  companies should realize walkers come with grips and make the trays fit either or somehow"
   ]
  }
 ],
 "metadata": {
  "kernelspec": {
   "display_name": "Python 3 (ipykernel)",
   "language": "python",
   "name": "python3"
  },
  "language_info": {
   "codemirror_mode": {
    "name": "ipython",
    "version": 3
   },
   "file_extension": ".py",
   "mimetype": "text/x-python",
   "name": "python",
   "nbconvert_exporter": "python",
   "pygments_lexer": "ipython3",
   "version": "3.10.9"
  }
 },
 "nbformat": 4,
 "nbformat_minor": 5
}
