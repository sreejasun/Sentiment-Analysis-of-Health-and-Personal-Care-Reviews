{
 "cells": [
  {
   "cell_type": "code",
   "execution_count": 6,
   "id": "3455f097",
   "metadata": {},
   "outputs": [
    {
     "data": {
      "application/vnd.jupyter.widget-view+json": {
       "model_id": "8e7a311be67e4c69a78076d4d0c1bc8a",
       "version_major": 2,
       "version_minor": 0
      },
      "text/plain": [
       "Downloading:   0%|          | 0.00/3.35k [00:00<?, ?B/s]"
      ]
     },
     "metadata": {},
     "output_type": "display_data"
    },
    {
     "data": {
      "application/vnd.jupyter.widget-view+json": {
       "model_id": "b945fa595e0d448fa60dae4ae28790f8",
       "version_major": 2,
       "version_minor": 0
      },
      "text/plain": [
       "Downloading:   0%|          | 0.00/541M [00:00<?, ?B/s]"
      ]
     },
     "metadata": {},
     "output_type": "display_data"
    },
    {
     "data": {
      "application/vnd.jupyter.widget-view+json": {
       "model_id": "af795e085749419fa3ca9fff87315a1a",
       "version_major": 2,
       "version_minor": 0
      },
      "text/plain": [
       "Downloading:   0%|          | 0.00/373 [00:00<?, ?B/s]"
      ]
     },
     "metadata": {},
     "output_type": "display_data"
    },
    {
     "data": {
      "application/vnd.jupyter.widget-view+json": {
       "model_id": "c6b4a80c096a4e2989a073b2b872eccc",
       "version_major": 2,
       "version_minor": 0
      },
      "text/plain": [
       "Downloading:   0%|          | 0.00/996k [00:00<?, ?B/s]"
      ]
     },
     "metadata": {},
     "output_type": "display_data"
    },
    {
     "data": {
      "application/vnd.jupyter.widget-view+json": {
       "model_id": "8d8ab6b5aca846609e4cb145fbf8904a",
       "version_major": 2,
       "version_minor": 0
      },
      "text/plain": [
       "Downloading:   0%|          | 0.00/2.92M [00:00<?, ?B/s]"
      ]
     },
     "metadata": {},
     "output_type": "display_data"
    },
    {
     "data": {
      "application/vnd.jupyter.widget-view+json": {
       "model_id": "cc41d29b46ab4f90a61c70b7ac8e2309",
       "version_major": 2,
       "version_minor": 0
      },
      "text/plain": [
       "Downloading:   0%|          | 0.00/125 [00:00<?, ?B/s]"
      ]
     },
     "metadata": {},
     "output_type": "display_data"
    },
    {
     "name": "stderr",
     "output_type": "stream",
     "text": [
      "/Users/sunkeswaramsreeja/anaconda3/lib/python3.10/site-packages/transformers/pipelines/text_classification.py:89: UserWarning: `return_all_scores` is now deprecated,  if want a similar funcionality use `top_k=None` instead of `return_all_scores=True` or `top_k=1` instead of `return_all_scores=False`.\n",
      "  warnings.warn(\n"
     ]
    }
   ],
   "source": [
    "from transformers import pipeline\n",
    "\n",
    "distilled_student_sentiment_classifier = pipeline(\n",
    "    model=\"lxyuan/distilbert-base-multilingual-cased-sentiments-student\", \n",
    "    return_all_scores=True\n",
    ")"
   ]
  },
  {
   "cell_type": "code",
   "execution_count": 7,
   "id": "bd68a004",
   "metadata": {},
   "outputs": [
    {
     "data": {
      "text/plain": [
       "[[{'label': 'positive', 'score': 0.9731043577194214},\n",
       "  {'label': 'neutral', 'score': 0.01691010594367981},\n",
       "  {'label': 'negative', 'score': 0.009985500015318394}]]"
      ]
     },
     "execution_count": 7,
     "metadata": {},
     "output_type": "execute_result"
    }
   ],
   "source": [
    "distilled_student_sentiment_classifier (\"I love this movie and i would watch it again and again!\")"
   ]
  },
  {
   "cell_type": "code",
   "execution_count": 8,
   "id": "f493feac",
   "metadata": {},
   "outputs": [
    {
     "data": {
      "text/plain": [
       "[[{'label': 'positive', 'score': 0.17603202164173126},\n",
       "  {'label': 'neutral', 'score': 0.0872601568698883},\n",
       "  {'label': 'negative', 'score': 0.736707866191864}]]"
      ]
     },
     "execution_count": 8,
     "metadata": {},
     "output_type": "execute_result"
    }
   ],
   "source": [
    "distilled_student_sentiment_classifier(\"I have been suffering a couple months with heel pain from plantar fasciitis.  I thought I'd give these a try and wow, I was surprised at how much they cut down on the pain.  I wish they came in a tighter and thicker version.\")"
   ]
  },
  {
   "cell_type": "code",
   "execution_count": 9,
   "id": "45bd6689",
   "metadata": {},
   "outputs": [
    {
     "data": {
      "application/vnd.jupyter.widget-view+json": {
       "model_id": "554c08690fdd482dba000967bd0dac08",
       "version_major": 2,
       "version_minor": 0
      },
      "text/plain": [
       "Downloading:   0%|          | 0.00/758 [00:00<?, ?B/s]"
      ]
     },
     "metadata": {},
     "output_type": "display_data"
    },
    {
     "data": {
      "application/vnd.jupyter.widget-view+json": {
       "model_id": "b3e8d8ee7f08498fa7b3090841dec745",
       "version_major": 2,
       "version_minor": 0
      },
      "text/plain": [
       "Downloading:   0%|          | 0.00/438M [00:00<?, ?B/s]"
      ]
     },
     "metadata": {},
     "output_type": "display_data"
    },
    {
     "data": {
      "application/vnd.jupyter.widget-view+json": {
       "model_id": "dc95b3c73b464097ab1d2a6abfba7aab",
       "version_major": 2,
       "version_minor": 0
      },
      "text/plain": [
       "Downloading:   0%|          | 0.00/252 [00:00<?, ?B/s]"
      ]
     },
     "metadata": {},
     "output_type": "display_data"
    },
    {
     "data": {
      "application/vnd.jupyter.widget-view+json": {
       "model_id": "4431f2af078a4bb289119afca0a07244",
       "version_major": 2,
       "version_minor": 0
      },
      "text/plain": [
       "Downloading:   0%|          | 0.00/232k [00:00<?, ?B/s]"
      ]
     },
     "metadata": {},
     "output_type": "display_data"
    },
    {
     "data": {
      "application/vnd.jupyter.widget-view+json": {
       "model_id": "fa37b23179fc482f83a26038fcd69120",
       "version_major": 2,
       "version_minor": 0
      },
      "text/plain": [
       "Downloading:   0%|          | 0.00/112 [00:00<?, ?B/s]"
      ]
     },
     "metadata": {},
     "output_type": "display_data"
    }
   ],
   "source": [
    "pipe = pipeline(\"text-classification\", model=\"ProsusAI/finbert\")"
   ]
  },
  {
   "cell_type": "code",
   "execution_count": 10,
   "id": "fb6422fc",
   "metadata": {},
   "outputs": [
    {
     "data": {
      "text/plain": [
       "[{'label': 'neutral', 'score': 0.7106924057006836}]"
      ]
     },
     "execution_count": 10,
     "metadata": {},
     "output_type": "execute_result"
    }
   ],
   "source": [
    "pipe(\"I have been suffering a couple months with heel pain from plantar fasciitis.  I thought I'd give these a try and wow, I was surprised at how much they cut down on the pain.  I wish they came in a tighter and thicker version.\")"
   ]
  },
  {
   "cell_type": "code",
   "execution_count": 11,
   "id": "c997fa6e",
   "metadata": {},
   "outputs": [],
   "source": [
    "import json\n",
    "import pandas as pd\n",
    "file = r\"/Users/sunkeswaramsreeja/Desktop/Health_and_Personal_Care.jsonl\"\n",
    "df=pd.read_json(file,lines=True)"
   ]
  },
  {
   "cell_type": "code",
   "execution_count": 12,
   "id": "169b3b76",
   "metadata": {},
   "outputs": [
    {
     "data": {
      "text/html": [
       "<div>\n",
       "<style scoped>\n",
       "    .dataframe tbody tr th:only-of-type {\n",
       "        vertical-align: middle;\n",
       "    }\n",
       "\n",
       "    .dataframe tbody tr th {\n",
       "        vertical-align: top;\n",
       "    }\n",
       "\n",
       "    .dataframe thead th {\n",
       "        text-align: right;\n",
       "    }\n",
       "</style>\n",
       "<table border=\"1\" class=\"dataframe\">\n",
       "  <thead>\n",
       "    <tr style=\"text-align: right;\">\n",
       "      <th></th>\n",
       "      <th>rating</th>\n",
       "      <th>title</th>\n",
       "      <th>text</th>\n",
       "      <th>images</th>\n",
       "      <th>asin</th>\n",
       "      <th>parent_asin</th>\n",
       "      <th>user_id</th>\n",
       "      <th>timestamp</th>\n",
       "      <th>helpful_vote</th>\n",
       "      <th>verified_purchase</th>\n",
       "    </tr>\n",
       "  </thead>\n",
       "  <tbody>\n",
       "    <tr>\n",
       "      <th>0</th>\n",
       "      <td>4</td>\n",
       "      <td>12 mg is 12 on the periodic table people! Mg f...</td>\n",
       "      <td>This review is more to clarify someone else’s ...</td>\n",
       "      <td>[]</td>\n",
       "      <td>B07TDSJZMR</td>\n",
       "      <td>B07TDSJZMR</td>\n",
       "      <td>AFKZENTNBQ7A7V7UXW5JJI6UGRYQ</td>\n",
       "      <td>2020-02-06 00:49:35.902</td>\n",
       "      <td>3</td>\n",
       "      <td>True</td>\n",
       "    </tr>\n",
       "    <tr>\n",
       "      <th>1</th>\n",
       "      <td>5</td>\n",
       "      <td>Save the lanet using less plastic.</td>\n",
       "      <td>Love these easy multitasking bleach tablets. B...</td>\n",
       "      <td>[]</td>\n",
       "      <td>B08637FWWF</td>\n",
       "      <td>B08637FWWF</td>\n",
       "      <td>AEVWAM3YWN5URJVJIZZ6XPD2MKIA</td>\n",
       "      <td>2020-11-02 22:03:06.880</td>\n",
       "      <td>3</td>\n",
       "      <td>True</td>\n",
       "    </tr>\n",
       "    <tr>\n",
       "      <th>2</th>\n",
       "      <td>5</td>\n",
       "      <td>Fantastic</td>\n",
       "      <td>I have been suffering a couple months with hee...</td>\n",
       "      <td>[]</td>\n",
       "      <td>B07KJVGNN5</td>\n",
       "      <td>B07KJVGNN5</td>\n",
       "      <td>AHSPLDNW5OOUK2PLH7GXLACFBZNQ</td>\n",
       "      <td>2019-07-24 11:13:58.905</td>\n",
       "      <td>0</td>\n",
       "      <td>True</td>\n",
       "    </tr>\n",
       "    <tr>\n",
       "      <th>3</th>\n",
       "      <td>4</td>\n",
       "      <td>It holds the water and makes bubbles.  That's ...</td>\n",
       "      <td>It's cheap and it does what I wanted.  The \"ma...</td>\n",
       "      <td>[]</td>\n",
       "      <td>B007HY7GC2</td>\n",
       "      <td>B092RP73CX</td>\n",
       "      <td>AEZGPLOYTSAPR3DHZKKXEFPAXUAA</td>\n",
       "      <td>2022-09-04 02:29:02.725</td>\n",
       "      <td>7</td>\n",
       "      <td>True</td>\n",
       "    </tr>\n",
       "    <tr>\n",
       "      <th>4</th>\n",
       "      <td>1</td>\n",
       "      <td>Not for me</td>\n",
       "      <td>Didn't do a thing for me. Not saying they don'...</td>\n",
       "      <td>[]</td>\n",
       "      <td>B08KYJLF5T</td>\n",
       "      <td>B08KYJLF5T</td>\n",
       "      <td>AEQAYV7RXZEBXMQIQPL6KCT2CFWQ</td>\n",
       "      <td>2022-01-20 23:53:07.262</td>\n",
       "      <td>0</td>\n",
       "      <td>True</td>\n",
       "    </tr>\n",
       "  </tbody>\n",
       "</table>\n",
       "</div>"
      ],
      "text/plain": [
       "   rating                                              title  \\\n",
       "0       4  12 mg is 12 on the periodic table people! Mg f...   \n",
       "1       5                 Save the lanet using less plastic.   \n",
       "2       5                                          Fantastic   \n",
       "3       4  It holds the water and makes bubbles.  That's ...   \n",
       "4       1                                         Not for me   \n",
       "\n",
       "                                                text images        asin  \\\n",
       "0  This review is more to clarify someone else’s ...     []  B07TDSJZMR   \n",
       "1  Love these easy multitasking bleach tablets. B...     []  B08637FWWF   \n",
       "2  I have been suffering a couple months with hee...     []  B07KJVGNN5   \n",
       "3  It's cheap and it does what I wanted.  The \"ma...     []  B007HY7GC2   \n",
       "4  Didn't do a thing for me. Not saying they don'...     []  B08KYJLF5T   \n",
       "\n",
       "  parent_asin                       user_id               timestamp  \\\n",
       "0  B07TDSJZMR  AFKZENTNBQ7A7V7UXW5JJI6UGRYQ 2020-02-06 00:49:35.902   \n",
       "1  B08637FWWF  AEVWAM3YWN5URJVJIZZ6XPD2MKIA 2020-11-02 22:03:06.880   \n",
       "2  B07KJVGNN5  AHSPLDNW5OOUK2PLH7GXLACFBZNQ 2019-07-24 11:13:58.905   \n",
       "3  B092RP73CX  AEZGPLOYTSAPR3DHZKKXEFPAXUAA 2022-09-04 02:29:02.725   \n",
       "4  B08KYJLF5T  AEQAYV7RXZEBXMQIQPL6KCT2CFWQ 2022-01-20 23:53:07.262   \n",
       "\n",
       "   helpful_vote  verified_purchase  \n",
       "0             3               True  \n",
       "1             3               True  \n",
       "2             0               True  \n",
       "3             7               True  \n",
       "4             0               True  "
      ]
     },
     "execution_count": 12,
     "metadata": {},
     "output_type": "execute_result"
    }
   ],
   "source": [
    "df.head()"
   ]
  },
  {
   "cell_type": "code",
   "execution_count": 13,
   "id": "9c6dc569",
   "metadata": {},
   "outputs": [
    {
     "data": {
      "text/plain": [
       "(494121, 10)"
      ]
     },
     "execution_count": 13,
     "metadata": {},
     "output_type": "execute_result"
    }
   ],
   "source": [
    "df.shape"
   ]
  },
  {
   "cell_type": "code",
   "execution_count": 14,
   "id": "40241566",
   "metadata": {},
   "outputs": [],
   "source": [
    "data=df.head(5000)"
   ]
  },
  {
   "cell_type": "code",
   "execution_count": 15,
   "id": "a4535590",
   "metadata": {},
   "outputs": [],
   "source": [
    "from transformers import AutoTokenizer, AutoModelForSequenceClassification\n",
    "\n",
    "tokenizer = AutoTokenizer.from_pretrained(\"ProsusAI/finbert\")\n",
    "model = AutoModelForSequenceClassification.from_pretrained(\"ProsusAI/finbert\")"
   ]
  },
  {
   "cell_type": "code",
   "execution_count": 17,
   "id": "3ea7d258",
   "metadata": {},
   "outputs": [
    {
     "name": "stderr",
     "output_type": "stream",
     "text": [
      "Token indices sequence length is longer than the specified maximum sequence length for this model (585 > 512). Running this sequence through the model will result in indexing errors\n"
     ]
    }
   ],
   "source": [
    "data=data[data['text'].apply(lambda x:len(tokenizer.tokenize(x)))<500]"
   ]
  },
  {
   "cell_type": "code",
   "execution_count": 18,
   "id": "40e431d1",
   "metadata": {},
   "outputs": [
    {
     "name": "stderr",
     "output_type": "stream",
     "text": [
      "/var/folders/hr/xps4q_dd3611wkdd5br2tbs40000gn/T/ipykernel_35556/1092156075.py:1: UserWarning: Pandas doesn't allow columns to be created via a new attribute name - see https://pandas.pydata.org/pandas-docs/stable/indexing.html#attribute-access\n",
      "  data.sentiment=data['text'].apply(pipe)\n"
     ]
    }
   ],
   "source": [
    "data.sentiment=data['text'].apply(pipe)"
   ]
  },
  {
   "cell_type": "code",
   "execution_count": 19,
   "id": "73f7cad6",
   "metadata": {},
   "outputs": [
    {
     "data": {
      "text/plain": [
       "0       [{'label': 'neutral', 'score': 0.8950747251510...\n",
       "1       [{'label': 'neutral', 'score': 0.8559923768043...\n",
       "2       [{'label': 'neutral', 'score': 0.7106924057006...\n",
       "3       [{'label': 'neutral', 'score': 0.8928616046905...\n",
       "4       [{'label': 'neutral', 'score': 0.7819135189056...\n",
       "                              ...                        \n",
       "4995    [{'label': 'neutral', 'score': 0.8244983553886...\n",
       "4996    [{'label': 'neutral', 'score': 0.9016045331954...\n",
       "4997    [{'label': 'neutral', 'score': 0.6363123655319...\n",
       "4998    [{'label': 'neutral', 'score': 0.7594304084777...\n",
       "4999    [{'label': 'neutral', 'score': 0.7730156183242...\n",
       "Name: text, Length: 4927, dtype: object"
      ]
     },
     "execution_count": 19,
     "metadata": {},
     "output_type": "execute_result"
    }
   ],
   "source": [
    "data.sentiment"
   ]
  },
  {
   "cell_type": "code",
   "execution_count": 22,
   "id": "32669ea5",
   "metadata": {},
   "outputs": [],
   "source": [
    "data.sentiment.to_csv('/Users/sunkeswaramsreeja/Desktop/finberg_res.csv', index=False)"
   ]
  },
  {
   "cell_type": "code",
   "execution_count": 1,
   "id": "8fc371c8",
   "metadata": {},
   "outputs": [
    {
     "name": "stderr",
     "output_type": "stream",
     "text": [
      "2024-05-02 13:36:41.947631: I tensorflow/core/platform/cpu_feature_guard.cc:210] This TensorFlow binary is optimized to use available CPU instructions in performance-critical operations.\n",
      "To enable the following instructions: AVX2 AVX512F AVX512_VNNI FMA, in other operations, rebuild TensorFlow with the appropriate compiler flags.\n"
     ]
    },
    {
     "data": {
      "application/vnd.jupyter.widget-view+json": {
       "model_id": "83874cb2d4644585bc14098936efac07",
       "version_major": 2,
       "version_minor": 0
      },
      "text/plain": [
       "Downloading:   0%|          | 0.00/933 [00:00<?, ?B/s]"
      ]
     },
     "metadata": {},
     "output_type": "display_data"
    },
    {
     "data": {
      "application/vnd.jupyter.widget-view+json": {
       "model_id": "c55e4103e174453e89a78f565117675e",
       "version_major": 2,
       "version_minor": 0
      },
      "text/plain": [
       "Downloading:   0%|          | 0.00/329M [00:00<?, ?B/s]"
      ]
     },
     "metadata": {},
     "output_type": "display_data"
    },
    {
     "data": {
      "application/vnd.jupyter.widget-view+json": {
       "model_id": "fb90906a05ea4089b20d27bbb4fd35bf",
       "version_major": 2,
       "version_minor": 0
      },
      "text/plain": [
       "Downloading:   0%|          | 0.00/333 [00:00<?, ?B/s]"
      ]
     },
     "metadata": {},
     "output_type": "display_data"
    },
    {
     "data": {
      "application/vnd.jupyter.widget-view+json": {
       "model_id": "e5a6205a9d564c09989e41386fb93551",
       "version_major": 2,
       "version_minor": 0
      },
      "text/plain": [
       "Downloading:   0%|          | 0.00/798k [00:00<?, ?B/s]"
      ]
     },
     "metadata": {},
     "output_type": "display_data"
    },
    {
     "data": {
      "application/vnd.jupyter.widget-view+json": {
       "model_id": "931af9a3e9ab4f1db9682f581ffd5436",
       "version_major": 2,
       "version_minor": 0
      },
      "text/plain": [
       "Downloading:   0%|          | 0.00/456k [00:00<?, ?B/s]"
      ]
     },
     "metadata": {},
     "output_type": "display_data"
    },
    {
     "data": {
      "application/vnd.jupyter.widget-view+json": {
       "model_id": "022cf85f272841a1a16fc1339999ad0b",
       "version_major": 2,
       "version_minor": 0
      },
      "text/plain": [
       "Downloading:   0%|          | 0.00/1.36M [00:00<?, ?B/s]"
      ]
     },
     "metadata": {},
     "output_type": "display_data"
    },
    {
     "data": {
      "application/vnd.jupyter.widget-view+json": {
       "model_id": "23a6016e0b0c433d8ebabbf45327600f",
       "version_major": 2,
       "version_minor": 0
      },
      "text/plain": [
       "Downloading:   0%|          | 0.00/239 [00:00<?, ?B/s]"
      ]
     },
     "metadata": {},
     "output_type": "display_data"
    }
   ],
   "source": [
    "# Use a pipeline as a high-level helper\n",
    "from transformers import pipeline\n",
    "\n",
    "pipe = pipeline(\"text-classification\", model=\"mrm8488/distilroberta-finetuned-financial-news-sentiment-analysis\")"
   ]
  },
  {
   "cell_type": "code",
   "execution_count": 3,
   "id": "30d1a362",
   "metadata": {},
   "outputs": [],
   "source": [
    "# Load model directly\n",
    "from transformers import AutoTokenizer, AutoModelForSequenceClassification\n",
    "\n",
    "tokenizer = AutoTokenizer.from_pretrained(\"mrm8488/distilroberta-finetuned-financial-news-sentiment-analysis\")\n",
    "model = AutoModelForSequenceClassification.from_pretrained(\"mrm8488/distilroberta-finetuned-financial-news-sentiment-analysis\")"
   ]
  },
  {
   "cell_type": "code",
   "execution_count": 4,
   "id": "738b2f7a",
   "metadata": {},
   "outputs": [],
   "source": [
    "import json\n",
    "import pandas as pd\n",
    "file = r\"/Users/sunkeswaramsreeja/Desktop/Health_and_Personal_Care.jsonl\"\n",
    "df=pd.read_json(file,lines=True)"
   ]
  },
  {
   "cell_type": "code",
   "execution_count": 5,
   "id": "4d744f94",
   "metadata": {},
   "outputs": [
    {
     "data": {
      "text/html": [
       "<div>\n",
       "<style scoped>\n",
       "    .dataframe tbody tr th:only-of-type {\n",
       "        vertical-align: middle;\n",
       "    }\n",
       "\n",
       "    .dataframe tbody tr th {\n",
       "        vertical-align: top;\n",
       "    }\n",
       "\n",
       "    .dataframe thead th {\n",
       "        text-align: right;\n",
       "    }\n",
       "</style>\n",
       "<table border=\"1\" class=\"dataframe\">\n",
       "  <thead>\n",
       "    <tr style=\"text-align: right;\">\n",
       "      <th></th>\n",
       "      <th>rating</th>\n",
       "      <th>title</th>\n",
       "      <th>text</th>\n",
       "      <th>images</th>\n",
       "      <th>asin</th>\n",
       "      <th>parent_asin</th>\n",
       "      <th>user_id</th>\n",
       "      <th>timestamp</th>\n",
       "      <th>helpful_vote</th>\n",
       "      <th>verified_purchase</th>\n",
       "    </tr>\n",
       "  </thead>\n",
       "  <tbody>\n",
       "    <tr>\n",
       "      <th>0</th>\n",
       "      <td>4</td>\n",
       "      <td>12 mg is 12 on the periodic table people! Mg f...</td>\n",
       "      <td>This review is more to clarify someone else’s ...</td>\n",
       "      <td>[]</td>\n",
       "      <td>B07TDSJZMR</td>\n",
       "      <td>B07TDSJZMR</td>\n",
       "      <td>AFKZENTNBQ7A7V7UXW5JJI6UGRYQ</td>\n",
       "      <td>2020-02-06 00:49:35.902</td>\n",
       "      <td>3</td>\n",
       "      <td>True</td>\n",
       "    </tr>\n",
       "    <tr>\n",
       "      <th>1</th>\n",
       "      <td>5</td>\n",
       "      <td>Save the lanet using less plastic.</td>\n",
       "      <td>Love these easy multitasking bleach tablets. B...</td>\n",
       "      <td>[]</td>\n",
       "      <td>B08637FWWF</td>\n",
       "      <td>B08637FWWF</td>\n",
       "      <td>AEVWAM3YWN5URJVJIZZ6XPD2MKIA</td>\n",
       "      <td>2020-11-02 22:03:06.880</td>\n",
       "      <td>3</td>\n",
       "      <td>True</td>\n",
       "    </tr>\n",
       "    <tr>\n",
       "      <th>2</th>\n",
       "      <td>5</td>\n",
       "      <td>Fantastic</td>\n",
       "      <td>I have been suffering a couple months with hee...</td>\n",
       "      <td>[]</td>\n",
       "      <td>B07KJVGNN5</td>\n",
       "      <td>B07KJVGNN5</td>\n",
       "      <td>AHSPLDNW5OOUK2PLH7GXLACFBZNQ</td>\n",
       "      <td>2019-07-24 11:13:58.905</td>\n",
       "      <td>0</td>\n",
       "      <td>True</td>\n",
       "    </tr>\n",
       "    <tr>\n",
       "      <th>3</th>\n",
       "      <td>4</td>\n",
       "      <td>It holds the water and makes bubbles.  That's ...</td>\n",
       "      <td>It's cheap and it does what I wanted.  The \"ma...</td>\n",
       "      <td>[]</td>\n",
       "      <td>B007HY7GC2</td>\n",
       "      <td>B092RP73CX</td>\n",
       "      <td>AEZGPLOYTSAPR3DHZKKXEFPAXUAA</td>\n",
       "      <td>2022-09-04 02:29:02.725</td>\n",
       "      <td>7</td>\n",
       "      <td>True</td>\n",
       "    </tr>\n",
       "    <tr>\n",
       "      <th>4</th>\n",
       "      <td>1</td>\n",
       "      <td>Not for me</td>\n",
       "      <td>Didn't do a thing for me. Not saying they don'...</td>\n",
       "      <td>[]</td>\n",
       "      <td>B08KYJLF5T</td>\n",
       "      <td>B08KYJLF5T</td>\n",
       "      <td>AEQAYV7RXZEBXMQIQPL6KCT2CFWQ</td>\n",
       "      <td>2022-01-20 23:53:07.262</td>\n",
       "      <td>0</td>\n",
       "      <td>True</td>\n",
       "    </tr>\n",
       "  </tbody>\n",
       "</table>\n",
       "</div>"
      ],
      "text/plain": [
       "   rating                                              title  \\\n",
       "0       4  12 mg is 12 on the periodic table people! Mg f...   \n",
       "1       5                 Save the lanet using less plastic.   \n",
       "2       5                                          Fantastic   \n",
       "3       4  It holds the water and makes bubbles.  That's ...   \n",
       "4       1                                         Not for me   \n",
       "\n",
       "                                                text images        asin  \\\n",
       "0  This review is more to clarify someone else’s ...     []  B07TDSJZMR   \n",
       "1  Love these easy multitasking bleach tablets. B...     []  B08637FWWF   \n",
       "2  I have been suffering a couple months with hee...     []  B07KJVGNN5   \n",
       "3  It's cheap and it does what I wanted.  The \"ma...     []  B007HY7GC2   \n",
       "4  Didn't do a thing for me. Not saying they don'...     []  B08KYJLF5T   \n",
       "\n",
       "  parent_asin                       user_id               timestamp  \\\n",
       "0  B07TDSJZMR  AFKZENTNBQ7A7V7UXW5JJI6UGRYQ 2020-02-06 00:49:35.902   \n",
       "1  B08637FWWF  AEVWAM3YWN5URJVJIZZ6XPD2MKIA 2020-11-02 22:03:06.880   \n",
       "2  B07KJVGNN5  AHSPLDNW5OOUK2PLH7GXLACFBZNQ 2019-07-24 11:13:58.905   \n",
       "3  B092RP73CX  AEZGPLOYTSAPR3DHZKKXEFPAXUAA 2022-09-04 02:29:02.725   \n",
       "4  B08KYJLF5T  AEQAYV7RXZEBXMQIQPL6KCT2CFWQ 2022-01-20 23:53:07.262   \n",
       "\n",
       "   helpful_vote  verified_purchase  \n",
       "0             3               True  \n",
       "1             3               True  \n",
       "2             0               True  \n",
       "3             7               True  \n",
       "4             0               True  "
      ]
     },
     "execution_count": 5,
     "metadata": {},
     "output_type": "execute_result"
    }
   ],
   "source": [
    "df.head()"
   ]
  },
  {
   "cell_type": "code",
   "execution_count": 14,
   "id": "5fa260ac",
   "metadata": {},
   "outputs": [],
   "source": [
    "data=df.head(5000)"
   ]
  },
  {
   "cell_type": "code",
   "execution_count": 15,
   "id": "917ba533",
   "metadata": {},
   "outputs": [],
   "source": [
    "from transformers import DistilBertTokenizer\n",
    "\n",
    "# Define the tokenizer\n",
    "tokenizer=DistilBertTokenizer.from_pretrained('distilbert-base-uncased')\n",
    "\n",
    "\n",
    "# Filter rows where the text length exceeds 512 tokens\n",
    "data=data[data['text'].apply(lambda x:len(tokenizer.tokenize(x)))<500]"
   ]
  },
  {
   "cell_type": "code",
   "execution_count": 16,
   "id": "b2010091",
   "metadata": {},
   "outputs": [],
   "source": [
    "senti=data['text'].apply(pipe)"
   ]
  },
  {
   "cell_type": "code",
   "execution_count": 17,
   "id": "998370b0",
   "metadata": {},
   "outputs": [
    {
     "data": {
      "text/plain": [
       "0       [{'label': 'neutral', 'score': 0.9996471405029...\n",
       "1       [{'label': 'neutral', 'score': 0.9691935777664...\n",
       "2       [{'label': 'positive', 'score': 0.992488384246...\n",
       "3       [{'label': 'neutral', 'score': 0.99964439868927}]\n",
       "4       [{'label': 'neutral', 'score': 0.9998205304145...\n",
       "                              ...                        \n",
       "4995    [{'label': 'neutral', 'score': 0.9058732986450...\n",
       "4996    [{'label': 'neutral', 'score': 0.9991738200187...\n",
       "4997    [{'label': 'neutral', 'score': 0.9967136383056...\n",
       "4998    [{'label': 'neutral', 'score': 0.9997325539588...\n",
       "4999    [{'label': 'neutral', 'score': 0.9998387098312...\n",
       "Name: text, Length: 4927, dtype: object"
      ]
     },
     "execution_count": 17,
     "metadata": {},
     "output_type": "execute_result"
    }
   ],
   "source": [
    "senti"
   ]
  },
  {
   "cell_type": "code",
   "execution_count": 18,
   "id": "f4052b99",
   "metadata": {},
   "outputs": [],
   "source": [
    "senti.to_csv('/Users/sunkeswaramsreeja/Desktop/fdistilbert_res.csv', index=False)"
   ]
  },
  {
   "cell_type": "code",
   "execution_count": 6,
   "id": "42735daa",
   "metadata": {},
   "outputs": [],
   "source": [
    "import nltk"
   ]
  },
  {
   "cell_type": "code",
   "execution_count": 4,
   "id": "d1a6723d",
   "metadata": {},
   "outputs": [],
   "source": [
    "example = \"I have been suffering a couple months with heel pain from plantar fasciitis.  I thought I'd give these a try and wow, I was surprised at how much they cut down on the pain.  I wish they came in a tighter and thicker version.\""
   ]
  },
  {
   "cell_type": "code",
   "execution_count": 8,
   "id": "3550b9a4",
   "metadata": {},
   "outputs": [],
   "source": [
    "import nltk\n",
    "from nltk.tokenize import word_tokenize\n",
    "from nltk.corpus import stopwords\n",
    "from nltk.stem import WordNetLemmatizer"
   ]
  },
  {
   "cell_type": "code",
   "execution_count": 56,
   "id": "a3508062",
   "metadata": {},
   "outputs": [],
   "source": [
    "text = \"I have been suffering a couple months with heel pain from plantar fasciitis.  I thought I'd give these a try and wow, I was surprised at how much they cut down on the pain.  I wish they came in a tighter and thicker version.\""
   ]
  },
  {
   "cell_type": "code",
   "execution_count": 57,
   "id": "947f4ff0",
   "metadata": {},
   "outputs": [
    {
     "data": {
      "text/plain": [
       "['I',\n",
       " 'have',\n",
       " 'been',\n",
       " 'suffering',\n",
       " 'a',\n",
       " 'couple',\n",
       " 'months',\n",
       " 'with',\n",
       " 'heel',\n",
       " 'pain',\n",
       " 'from',\n",
       " 'plantar',\n",
       " 'fasciitis',\n",
       " '.',\n",
       " 'I',\n",
       " 'thought',\n",
       " 'I',\n",
       " \"'d\",\n",
       " 'give',\n",
       " 'these',\n",
       " 'a',\n",
       " 'try',\n",
       " 'and',\n",
       " 'wow',\n",
       " ',',\n",
       " 'I',\n",
       " 'was',\n",
       " 'surprised',\n",
       " 'at',\n",
       " 'how',\n",
       " 'much',\n",
       " 'they',\n",
       " 'cut',\n",
       " 'down',\n",
       " 'on',\n",
       " 'the',\n",
       " 'pain',\n",
       " '.',\n",
       " 'I',\n",
       " 'wish',\n",
       " 'they',\n",
       " 'came',\n",
       " 'in',\n",
       " 'a',\n",
       " 'tighter',\n",
       " 'and',\n",
       " 'thicker',\n",
       " 'version',\n",
       " '.']"
      ]
     },
     "execution_count": 57,
     "metadata": {},
     "output_type": "execute_result"
    }
   ],
   "source": [
    "tokens = word_tokenize(text)\n",
    "tokens"
   ]
  },
  {
   "cell_type": "code",
   "execution_count": 58,
   "id": "8d5fe6f1",
   "metadata": {
    "scrolled": true
   },
   "outputs": [],
   "source": [
    "stop_words = set(stopwords.words('english'))"
   ]
  },
  {
   "cell_type": "code",
   "execution_count": 59,
   "id": "3196d29e",
   "metadata": {},
   "outputs": [
    {
     "data": {
      "text/plain": [
       "<WordNetLemmatizer>"
      ]
     },
     "execution_count": 59,
     "metadata": {},
     "output_type": "execute_result"
    }
   ],
   "source": [
    "lemmatizer = WordNetLemmatizer()\n",
    "lemmatizer"
   ]
  },
  {
   "cell_type": "code",
   "execution_count": 60,
   "id": "0fdb8288",
   "metadata": {},
   "outputs": [
    {
     "data": {
      "text/plain": [
       "['suffering',\n",
       " 'couple',\n",
       " 'month',\n",
       " 'heel',\n",
       " 'pain',\n",
       " 'plantar',\n",
       " 'fasciitis',\n",
       " '.',\n",
       " 'thought',\n",
       " \"'d\",\n",
       " 'give',\n",
       " 'try',\n",
       " 'wow',\n",
       " ',',\n",
       " 'surprised',\n",
       " 'much',\n",
       " 'cut',\n",
       " 'pain',\n",
       " '.',\n",
       " 'wish',\n",
       " 'came',\n",
       " 'tighter',\n",
       " 'thicker',\n",
       " 'version',\n",
       " '.']"
      ]
     },
     "execution_count": 60,
     "metadata": {},
     "output_type": "execute_result"
    }
   ],
   "source": [
    "filtered_tokens = [lemmatizer.lemmatize(token) for token in tokens if token.lower() not in stop_words]\n",
    "filtered_tokens"
   ]
  },
  {
   "cell_type": "code",
   "execution_count": 61,
   "id": "caa65b1b",
   "metadata": {},
   "outputs": [
    {
     "name": "stdout",
     "output_type": "stream",
     "text": [
      "['suffering', 'couple', 'month', 'heel', 'pain', 'plantar', 'fasciitis', '', 'thought', 'd', 'give', 'try', 'wow', '', 'surprised', 'much', 'cut', 'pain', '', 'wish', 'came', 'tighter', 'thicker', 'version', '']\n"
     ]
    }
   ],
   "source": [
    "import string\n",
    "translator = str.maketrans(\"\", \"\", string.punctuation)\n",
    "\n",
    "# Remove punctuation from each item in the list\n",
    "items_without_punctuation = [i.translate(translator) for i in filtered_tokens]\n",
    "\n",
    "print(items_without_punctuation)\n"
   ]
  },
  {
   "cell_type": "code",
   "execution_count": 62,
   "id": "01aaaef0",
   "metadata": {},
   "outputs": [],
   "source": [
    "items = [s for s in items_without_punctuation if s]"
   ]
  },
  {
   "cell_type": "code",
   "execution_count": 63,
   "id": "4bcc83be",
   "metadata": {},
   "outputs": [
    {
     "data": {
      "text/plain": [
       "['suffering',\n",
       " 'couple',\n",
       " 'month',\n",
       " 'heel',\n",
       " 'pain',\n",
       " 'plantar',\n",
       " 'fasciitis',\n",
       " 'thought',\n",
       " 'd',\n",
       " 'give',\n",
       " 'try',\n",
       " 'wow',\n",
       " 'surprised',\n",
       " 'much',\n",
       " 'cut',\n",
       " 'pain',\n",
       " 'wish',\n",
       " 'came',\n",
       " 'tighter',\n",
       " 'thicker',\n",
       " 'version']"
      ]
     },
     "execution_count": 63,
     "metadata": {},
     "output_type": "execute_result"
    }
   ],
   "source": [
    "items"
   ]
  },
  {
   "cell_type": "code",
   "execution_count": 64,
   "id": "f9346535",
   "metadata": {},
   "outputs": [],
   "source": [
    "items = [i for i in items if len(i) > 1]"
   ]
  },
  {
   "cell_type": "code",
   "execution_count": 65,
   "id": "543a40a9",
   "metadata": {},
   "outputs": [
    {
     "data": {
      "text/plain": [
       "['suffering',\n",
       " 'couple',\n",
       " 'month',\n",
       " 'heel',\n",
       " 'pain',\n",
       " 'plantar',\n",
       " 'fasciitis',\n",
       " 'thought',\n",
       " 'give',\n",
       " 'try',\n",
       " 'wow',\n",
       " 'surprised',\n",
       " 'much',\n",
       " 'cut',\n",
       " 'pain',\n",
       " 'wish',\n",
       " 'came',\n",
       " 'tighter',\n",
       " 'thicker',\n",
       " 'version']"
      ]
     },
     "execution_count": 65,
     "metadata": {},
     "output_type": "execute_result"
    }
   ],
   "source": [
    "items"
   ]
  },
  {
   "cell_type": "code",
   "execution_count": 66,
   "id": "2d84274a",
   "metadata": {},
   "outputs": [],
   "source": [
    "tagged = nltk.pos_tag(items)"
   ]
  },
  {
   "cell_type": "code",
   "execution_count": 67,
   "id": "e480beff",
   "metadata": {},
   "outputs": [
    {
     "data": {
      "text/plain": [
       "[('suffering', 'VBG'),\n",
       " ('couple', 'JJ'),\n",
       " ('month', 'NN'),\n",
       " ('heel', 'NN'),\n",
       " ('pain', 'NN'),\n",
       " ('plantar', 'NN'),\n",
       " ('fasciitis', 'NN'),\n",
       " ('thought', 'VBD'),\n",
       " ('give', 'JJ'),\n",
       " ('try', 'NN'),\n",
       " ('wow', 'NN'),\n",
       " ('surprised', 'VBD'),\n",
       " ('much', 'JJ'),\n",
       " ('cut', 'NN'),\n",
       " ('pain', 'NN'),\n",
       " ('wish', 'JJ'),\n",
       " ('came', 'VBD'),\n",
       " ('tighter', 'RB'),\n",
       " ('thicker', 'NN'),\n",
       " ('version', 'NN')]"
      ]
     },
     "execution_count": 67,
     "metadata": {},
     "output_type": "execute_result"
    }
   ],
   "source": [
    "tagged"
   ]
  },
  {
   "cell_type": "code",
   "execution_count": 68,
   "id": "db9f7b4e",
   "metadata": {},
   "outputs": [
    {
     "name": "stdout",
     "output_type": "stream",
     "text": [
      "(S\n",
      "  suffering/VBG\n",
      "  couple/JJ\n",
      "  month/NN\n",
      "  heel/NN\n",
      "  pain/NN\n",
      "  plantar/NN\n",
      "  fasciitis/NN\n",
      "  thought/VBD\n",
      "  give/JJ\n",
      "  try/NN\n",
      "  wow/NN\n",
      "  surprised/VBD\n",
      "  much/JJ\n",
      "  cut/NN\n",
      "  pain/NN\n",
      "  wish/JJ\n",
      "  came/VBD\n",
      "  tighter/RB\n",
      "  thicker/NN\n",
      "  version/NN)\n"
     ]
    }
   ],
   "source": [
    "entities = nltk.chunk.ne_chunk(tagged)\n",
    "entities.pprint()"
   ]
  },
  {
   "cell_type": "code",
   "execution_count": 69,
   "id": "9992035c",
   "metadata": {},
   "outputs": [],
   "source": [
    "from nltk.sentiment.vader import SentimentIntensityAnalyzer"
   ]
  },
  {
   "cell_type": "code",
   "execution_count": 81,
   "id": "3a6c498d",
   "metadata": {},
   "outputs": [
    {
     "name": "stdout",
     "output_type": "stream",
     "text": [
      "0.355\n",
      "0.392\n",
      "0.253\n",
      "-0.5267\n"
     ]
    }
   ],
   "source": [
    "sia = SentimentIntensityAnalyzer()\n",
    "sentiment_scores = sia.polarity_scores(' '.join(items))\n",
    "print(sentiment_scores['neg'])\n",
    "print(sentiment_scores['neu'])\n",
    "print(sentiment_scores['pos'])\n",
    "print(sentiment_scores['compound'])"
   ]
  },
  {
   "cell_type": "code",
   "execution_count": null,
   "id": "225b93d3",
   "metadata": {},
   "outputs": [],
   "source": []
  }
 ],
 "metadata": {
  "kernelspec": {
   "display_name": "Python 3 (ipykernel)",
   "language": "python",
   "name": "python3"
  },
  "language_info": {
   "codemirror_mode": {
    "name": "ipython",
    "version": 3
   },
   "file_extension": ".py",
   "mimetype": "text/x-python",
   "name": "python",
   "nbconvert_exporter": "python",
   "pygments_lexer": "ipython3",
   "version": "3.10.9"
  }
 },
 "nbformat": 4,
 "nbformat_minor": 5
}
