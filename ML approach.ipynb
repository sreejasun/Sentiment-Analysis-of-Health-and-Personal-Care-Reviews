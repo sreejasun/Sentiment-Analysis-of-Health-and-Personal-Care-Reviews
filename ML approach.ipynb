{
 "cells": [
  {
   "cell_type": "code",
   "execution_count": 1,
   "id": "ab5a05ba",
   "metadata": {},
   "outputs": [
    {
     "name": "stderr",
     "output_type": "stream",
     "text": [
      "2024-05-09 17:10:12.177541: I tensorflow/core/platform/cpu_feature_guard.cc:210] This TensorFlow binary is optimized to use available CPU instructions in performance-critical operations.\n",
      "To enable the following instructions: AVX2 AVX512F AVX512_VNNI FMA, in other operations, rebuild TensorFlow with the appropriate compiler flags.\n"
     ]
    }
   ],
   "source": [
    "import pandas as pd \n",
    "from transformers import pipeline"
   ]
  },
  {
   "cell_type": "code",
   "execution_count": 5,
   "id": "6ec7989f",
   "metadata": {},
   "outputs": [],
   "source": [
    "data=r\"Health_and_Personal_Care.jsonl\"\n",
    "data=pd.read_json(data,lines=True)"
   ]
  },
  {
   "cell_type": "code",
   "execution_count": 6,
   "id": "a05951a2",
   "metadata": {},
   "outputs": [
    {
     "data": {
      "text/plain": [
       "(494121, 10)"
      ]
     },
     "execution_count": 6,
     "metadata": {},
     "output_type": "execute_result"
    }
   ],
   "source": [
    "data.shape"
   ]
  },
  {
   "cell_type": "code",
   "execution_count": 8,
   "id": "f85ac7f1",
   "metadata": {},
   "outputs": [
    {
     "data": {
      "text/html": [
       "<div>\n",
       "<style scoped>\n",
       "    .dataframe tbody tr th:only-of-type {\n",
       "        vertical-align: middle;\n",
       "    }\n",
       "\n",
       "    .dataframe tbody tr th {\n",
       "        vertical-align: top;\n",
       "    }\n",
       "\n",
       "    .dataframe thead th {\n",
       "        text-align: right;\n",
       "    }\n",
       "</style>\n",
       "<table border=\"1\" class=\"dataframe\">\n",
       "  <thead>\n",
       "    <tr style=\"text-align: right;\">\n",
       "      <th></th>\n",
       "      <th>rating</th>\n",
       "      <th>title</th>\n",
       "      <th>text</th>\n",
       "      <th>images</th>\n",
       "      <th>asin</th>\n",
       "      <th>parent_asin</th>\n",
       "      <th>user_id</th>\n",
       "      <th>timestamp</th>\n",
       "      <th>helpful_vote</th>\n",
       "      <th>verified_purchase</th>\n",
       "    </tr>\n",
       "  </thead>\n",
       "  <tbody>\n",
       "    <tr>\n",
       "      <th>0</th>\n",
       "      <td>4</td>\n",
       "      <td>12 mg is 12 on the periodic table people! Mg f...</td>\n",
       "      <td>This review is more to clarify someone else’s ...</td>\n",
       "      <td>[]</td>\n",
       "      <td>B07TDSJZMR</td>\n",
       "      <td>B07TDSJZMR</td>\n",
       "      <td>AFKZENTNBQ7A7V7UXW5JJI6UGRYQ</td>\n",
       "      <td>2020-02-06 00:49:35.902</td>\n",
       "      <td>3</td>\n",
       "      <td>True</td>\n",
       "    </tr>\n",
       "    <tr>\n",
       "      <th>1</th>\n",
       "      <td>5</td>\n",
       "      <td>Save the lanet using less plastic.</td>\n",
       "      <td>Love these easy multitasking bleach tablets. B...</td>\n",
       "      <td>[]</td>\n",
       "      <td>B08637FWWF</td>\n",
       "      <td>B08637FWWF</td>\n",
       "      <td>AEVWAM3YWN5URJVJIZZ6XPD2MKIA</td>\n",
       "      <td>2020-11-02 22:03:06.880</td>\n",
       "      <td>3</td>\n",
       "      <td>True</td>\n",
       "    </tr>\n",
       "    <tr>\n",
       "      <th>2</th>\n",
       "      <td>5</td>\n",
       "      <td>Fantastic</td>\n",
       "      <td>I have been suffering a couple months with hee...</td>\n",
       "      <td>[]</td>\n",
       "      <td>B07KJVGNN5</td>\n",
       "      <td>B07KJVGNN5</td>\n",
       "      <td>AHSPLDNW5OOUK2PLH7GXLACFBZNQ</td>\n",
       "      <td>2019-07-24 11:13:58.905</td>\n",
       "      <td>0</td>\n",
       "      <td>True</td>\n",
       "    </tr>\n",
       "    <tr>\n",
       "      <th>3</th>\n",
       "      <td>4</td>\n",
       "      <td>It holds the water and makes bubbles.  That's ...</td>\n",
       "      <td>It's cheap and it does what I wanted.  The \"ma...</td>\n",
       "      <td>[]</td>\n",
       "      <td>B007HY7GC2</td>\n",
       "      <td>B092RP73CX</td>\n",
       "      <td>AEZGPLOYTSAPR3DHZKKXEFPAXUAA</td>\n",
       "      <td>2022-09-04 02:29:02.725</td>\n",
       "      <td>7</td>\n",
       "      <td>True</td>\n",
       "    </tr>\n",
       "    <tr>\n",
       "      <th>4</th>\n",
       "      <td>1</td>\n",
       "      <td>Not for me</td>\n",
       "      <td>Didn't do a thing for me. Not saying they don'...</td>\n",
       "      <td>[]</td>\n",
       "      <td>B08KYJLF5T</td>\n",
       "      <td>B08KYJLF5T</td>\n",
       "      <td>AEQAYV7RXZEBXMQIQPL6KCT2CFWQ</td>\n",
       "      <td>2022-01-20 23:53:07.262</td>\n",
       "      <td>0</td>\n",
       "      <td>True</td>\n",
       "    </tr>\n",
       "  </tbody>\n",
       "</table>\n",
       "</div>"
      ],
      "text/plain": [
       "   rating                                              title  \\\n",
       "0       4  12 mg is 12 on the periodic table people! Mg f...   \n",
       "1       5                 Save the lanet using less plastic.   \n",
       "2       5                                          Fantastic   \n",
       "3       4  It holds the water and makes bubbles.  That's ...   \n",
       "4       1                                         Not for me   \n",
       "\n",
       "                                                text images        asin  \\\n",
       "0  This review is more to clarify someone else’s ...     []  B07TDSJZMR   \n",
       "1  Love these easy multitasking bleach tablets. B...     []  B08637FWWF   \n",
       "2  I have been suffering a couple months with hee...     []  B07KJVGNN5   \n",
       "3  It's cheap and it does what I wanted.  The \"ma...     []  B007HY7GC2   \n",
       "4  Didn't do a thing for me. Not saying they don'...     []  B08KYJLF5T   \n",
       "\n",
       "  parent_asin                       user_id               timestamp  \\\n",
       "0  B07TDSJZMR  AFKZENTNBQ7A7V7UXW5JJI6UGRYQ 2020-02-06 00:49:35.902   \n",
       "1  B08637FWWF  AEVWAM3YWN5URJVJIZZ6XPD2MKIA 2020-11-02 22:03:06.880   \n",
       "2  B07KJVGNN5  AHSPLDNW5OOUK2PLH7GXLACFBZNQ 2019-07-24 11:13:58.905   \n",
       "3  B092RP73CX  AEZGPLOYTSAPR3DHZKKXEFPAXUAA 2022-09-04 02:29:02.725   \n",
       "4  B08KYJLF5T  AEQAYV7RXZEBXMQIQPL6KCT2CFWQ 2022-01-20 23:53:07.262   \n",
       "\n",
       "   helpful_vote  verified_purchase  \n",
       "0             3               True  \n",
       "1             3               True  \n",
       "2             0               True  \n",
       "3             7               True  \n",
       "4             0               True  "
      ]
     },
     "execution_count": 8,
     "metadata": {},
     "output_type": "execute_result"
    }
   ],
   "source": [
    "data.head()"
   ]
  },
  {
   "cell_type": "code",
   "execution_count": 9,
   "id": "a5fb8ac2",
   "metadata": {},
   "outputs": [
    {
     "data": {
      "text/plain": [
       "rating               0\n",
       "title                0\n",
       "text                 0\n",
       "images               0\n",
       "asin                 0\n",
       "parent_asin          0\n",
       "user_id              0\n",
       "timestamp            0\n",
       "helpful_vote         0\n",
       "verified_purchase    0\n",
       "dtype: int64"
      ]
     },
     "execution_count": 9,
     "metadata": {},
     "output_type": "execute_result"
    }
   ],
   "source": [
    "data.isnull().sum()"
   ]
  },
  {
   "cell_type": "code",
   "execution_count": 11,
   "id": "7297fb97",
   "metadata": {},
   "outputs": [],
   "source": [
    "def label_sentiment(rating):\n",
    "    if rating in range(1, 3):  # Ratings 1 and 2 are \"Negative\"\n",
    "        return \"Negative\"\n",
    "    elif rating == 3:  # Rating 3 is \"Neutral\"\n",
    "        return \"Neutral\"\n",
    "    elif rating in range(4, 6):  # Ratings 4 and 5 are \"Positive\"\n",
    "        return \"Positive\"\n",
    "    else:\n",
    "        return None  # Handle cases outside the 1-5 range\n",
    "\n",
    "# Assuming 'merged_data' is a DataFrame and 'rating' is a column containing ratings\n",
    "data['Sentiment'] = data['rating'].apply(label_sentiment)\n"
   ]
  },
  {
   "cell_type": "code",
   "execution_count": 12,
   "id": "b2ea7bec",
   "metadata": {},
   "outputs": [
    {
     "data": {
      "text/html": [
       "<div>\n",
       "<style scoped>\n",
       "    .dataframe tbody tr th:only-of-type {\n",
       "        vertical-align: middle;\n",
       "    }\n",
       "\n",
       "    .dataframe tbody tr th {\n",
       "        vertical-align: top;\n",
       "    }\n",
       "\n",
       "    .dataframe thead th {\n",
       "        text-align: right;\n",
       "    }\n",
       "</style>\n",
       "<table border=\"1\" class=\"dataframe\">\n",
       "  <thead>\n",
       "    <tr style=\"text-align: right;\">\n",
       "      <th></th>\n",
       "      <th>rating</th>\n",
       "      <th>Sentiment</th>\n",
       "    </tr>\n",
       "  </thead>\n",
       "  <tbody>\n",
       "    <tr>\n",
       "      <th>469399</th>\n",
       "      <td>5</td>\n",
       "      <td>Positive</td>\n",
       "    </tr>\n",
       "    <tr>\n",
       "      <th>33915</th>\n",
       "      <td>5</td>\n",
       "      <td>Positive</td>\n",
       "    </tr>\n",
       "    <tr>\n",
       "      <th>50077</th>\n",
       "      <td>5</td>\n",
       "      <td>Positive</td>\n",
       "    </tr>\n",
       "    <tr>\n",
       "      <th>206226</th>\n",
       "      <td>3</td>\n",
       "      <td>Neutral</td>\n",
       "    </tr>\n",
       "    <tr>\n",
       "      <th>199228</th>\n",
       "      <td>5</td>\n",
       "      <td>Positive</td>\n",
       "    </tr>\n",
       "  </tbody>\n",
       "</table>\n",
       "</div>"
      ],
      "text/plain": [
       "        rating Sentiment\n",
       "469399       5  Positive\n",
       "33915        5  Positive\n",
       "50077        5  Positive\n",
       "206226       3   Neutral\n",
       "199228       5  Positive"
      ]
     },
     "execution_count": 12,
     "metadata": {},
     "output_type": "execute_result"
    }
   ],
   "source": [
    "data[['rating', 'Sentiment']].sample(5)"
   ]
  },
  {
   "cell_type": "code",
   "execution_count": 14,
   "id": "afad2e46",
   "metadata": {},
   "outputs": [
    {
     "name": "stdout",
     "output_type": "stream",
     "text": [
      "Neutral    36949\n",
      "Name: Sentiment, dtype: int64\n"
     ]
    }
   ],
   "source": [
    "neutral_reviews = data[data['Sentiment'] == 'Neutral']\n",
    "\n",
    "# Count the occurrences of each value in the DataFrame\n",
    "value_counts = neutral_reviews['Sentiment'].value_counts()\n",
    "\n",
    "print(value_counts)"
   ]
  },
  {
   "cell_type": "code",
   "execution_count": 16,
   "id": "34d673cb",
   "metadata": {},
   "outputs": [
    {
     "name": "stdout",
     "output_type": "stream",
     "text": [
      "Negative    98459\n",
      "Name: Sentiment, dtype: int64\n"
     ]
    }
   ],
   "source": [
    "negative_reviews = data[data['Sentiment'] == 'Negative']\n",
    "\n",
    "# Count the occurrences of each value in the DataFrame\n",
    "value_counts = negative_reviews['Sentiment'].value_counts()\n",
    "\n",
    "print(value_counts)"
   ]
  },
  {
   "cell_type": "code",
   "execution_count": 17,
   "id": "7ed3eb4b",
   "metadata": {},
   "outputs": [
    {
     "name": "stdout",
     "output_type": "stream",
     "text": [
      "Positive    358713\n",
      "Name: Sentiment, dtype: int64\n"
     ]
    }
   ],
   "source": [
    "positive_reviews = data[data['Sentiment'] == 'Positive']\n",
    "\n",
    "# Count the occurrences of each value in the DataFrame\n",
    "value_counts = positive_reviews['Sentiment'].value_counts()\n",
    "\n",
    "print(value_counts)"
   ]
  },
  {
   "cell_type": "code",
   "execution_count": 18,
   "id": "71961935",
   "metadata": {},
   "outputs": [],
   "source": [
    "import matplotlib.pyplot as plt\n",
    "import numpy as np\n",
    "import pandas as pd\n",
    "import seaborn as sns\n",
    "%matplotlib inline\n",
    "from matplotlib import style\n",
    "style.use('ggplot')"
   ]
  },
  {
   "cell_type": "code",
   "execution_count": 20,
   "id": "817a09c5",
   "metadata": {},
   "outputs": [
    {
     "data": {
      "image/png": "[encoded data removed]",
      "text/plain": [
       "<Figure size 1600x600 with 1 Axes>"
      ]
     },
     "metadata": {},
     "output_type": "display_data"
    }
   ],
   "source": [
    "fig, ax = plt.subplots(figsize=(16, 6))\n",
    "\n",
    "vc = data.Sentiment.value_counts()\n",
    "vc.plot.barh(color=\"blue\",fontsize=14,ax=ax)\n",
    "ax.set_title(\"Label vs Count\", fontsize=15)\n",
    "plt.show()"
   ]
  },
  {
   "cell_type": "code",
   "execution_count": 24,
   "id": "b95f5940",
   "metadata": {},
   "outputs": [],
   "source": [
    "import pandas as pd\n",
    "# Extract separate DataFrames for each sentiment category\n",
    "neutral_data = data[data['Sentiment'] == 'Neutral']\n",
    "positive_data = data[data['Sentiment'] == 'Positive']\n",
    "negative_data = data[data['Sentiment'] == 'Negative']\n",
    "\n",
    "# Find the minimum count among all sentiment categories\n",
    "min_count = min(len(neutral_data), len(positive_data), len(negative_data))\n",
    "\n",
    "# Downsample the positive sentiment data\n",
    "positive_sampled = positive_data.sample(n=min_count, random_state=42)\n",
    "\n",
    "# Upsample the neutral and negative sentiment data\n",
    "neutral_sampled = neutral_data.sample(n=min_count, replace=True, random_state=42)\n",
    "negative_sampled = negative_data.sample(n=min_count, replace=True, random_state=42)\n",
    "\n",
    "# Concatenate the balanced data\n",
    "balanced_data = pd.concat([positive_sampled, neutral_sampled, negative_sampled])\n",
    "\n",
    "# Shuffle the balanced data\n",
    "merged_data= balanced_data.sample(frac=1, random_state=42).reset_index(drop=True)\n",
    "\n",
    "\n",
    "# Now you have a balanced data containing equal counts of each sentiment category"
   ]
  },
  {
   "cell_type": "code",
   "execution_count": 25,
   "id": "b3eac712",
   "metadata": {},
   "outputs": [
    {
     "data": {
      "text/plain": [
       "Positive    358713\n",
       "Negative     98459\n",
       "Neutral      36949\n",
       "Name: Sentiment, dtype: int64"
      ]
     },
     "execution_count": 25,
     "metadata": {},
     "output_type": "execute_result"
    }
   ],
   "source": [
    "data['Sentiment'].value_counts()"
   ]
  },
  {
   "cell_type": "code",
   "execution_count": 28,
   "id": "6f8c6746",
   "metadata": {},
   "outputs": [],
   "source": [
    "import numpy as np\n",
    "import pandas as pd\n",
    "import matplotlib.pyplot as plt\n",
    "import seaborn as sns\n",
    "import wordcloud\n",
    "\n",
    "from wordcloud import WordCloud, STOPWORDS\n",
    "from sklearn.model_selection import train_test_split\n",
    "from sklearn.preprocessing import LabelEncoder\n",
    "from sklearn.metrics import accuracy_score, confusion_matrix\n",
    "\n",
    "import string\n",
    "import re\n",
    "\n",
    "from sklearn.feature_extraction.text import TfidfVectorizer\n",
    "from sklearn.feature_extraction.text import CountVectorizer\n",
    "from nltk.corpus import stopwords\n",
    "from nltk.stem import PorterStemmer\n",
    "\n",
    "from sklearn.linear_model import LogisticRegression\n",
    "from sklearn.naive_bayes import MultinomialNB\n",
    "\n",
    "import warnings\n",
    "warnings.filterwarnings('ignore')\n",
    "\n",
    "import pickle"
   ]
  },
  {
   "cell_type": "code",
   "execution_count": 30,
   "id": "8b37ff5f",
   "metadata": {},
   "outputs": [
    {
     "name": "stdout",
     "output_type": "stream",
     "text": [
      "{\"wasn't\", \"hasn't\", \"mustn't\", \"wouldn't\", \"hadn't\", \"couldn't\", \"shan't\", 'nor', \"didn't\", \"doesn't\", \"weren't\", \"aren't\", \"needn't\", \"mightn't\", \"won't\", \"isn't\", \"don't\", \"shouldn't\", 'not', \"haven't\", 'now', 'no'}\n",
      "\n",
      "\n",
      "\n",
      "{'yours', 'because', 'to', 'was', 'own', 'hasn', 'again', 'will', 'ma', 'can', 'in', 'most', 'than', 'where', 'weren', 'herself', 'this', 'just', 'into', 'but', 'hadn', 'yourself', 'does', 'wouldn', 'about', 'some', 'our', 'he', 'on', 'll', 'doing', 'ours', 'one', 'until', 'doesn', 'what', 'the', 'out', 'yourselves', 'mustn', 'who', 'all', 'when', 't', 'it', 'should', 'below', 'myself', \"it's\", 'did', 'through', \"she's\", 're', 'whom', 'once', 'is', 'o', 'we', 'isn', 'against', 'hers', 'its', 'ourselves', 'from', 's', 'be', 'after', 'has', 'these', 'theirs', 'them', 'if', 'being', 'only', 'up', 'for', 'shan', 'me', 'each', 'y', 'other', 'aren', 'any', 'same', 'having', 'didn', 'haven', 'while', 'both', 'his', 'itself', 'that', 'which', 'do', 'more', 'i', 'themselves', \"you'll\", 'above', 'shouldn', 'ain', 'here', 'm', 'or', \"you've\", 'd', 'their', 'himself', 'before', 'her', 'during', 'how', 'so', 'won', 'why', 'very', 'had', 'couldn', 'between', 'such', 'have', 'they', 'further', 'my', 'with', 'an', 'your', 'mightn', 'been', 'as', 'there', 'don', 'am', 'you', 'those', 'too', 'few', 'are', \"should've\", 've', 'down', 'needn', 'him', 'wasn', 'and', 'at', 'under', \"you're\", 'of', 'then', 'over', 'a', 'she', 'by', \"you'd\", \"that'll\", 'were', 'off'}\n"
     ]
    }
   ],
   "source": [
    "# stopwords\n",
    "total_stopwords = set(stopwords.words('english'))\n",
    "\n",
    "# subtract negative stop words like no, not, don't etc.. from total_stopwords\n",
    "negative_stop_words = set(word for word in total_stopwords \n",
    "                          if \"n't\" in word or 'no' in word)\n",
    "print(negative_stop_words)\n",
    "\n",
    "final_stopwords = total_stopwords - negative_stop_words\n",
    "print('\\n\\n')\n",
    "# \n",
    "final_stopwords.add(\"one\")\n",
    "print(final_stopwords)"
   ]
  },
  {
   "cell_type": "code",
   "execution_count": 31,
   "id": "cb87b5e2",
   "metadata": {},
   "outputs": [],
   "source": [
    "#stemming object\n",
    "stemmer = PorterStemmer()\n",
    "\n",
    "HTMLTAGS = re.compile('<.*?>')\n",
    "table = str.maketrans(dict.fromkeys(string.punctuation))\n",
    "remove_digits = str.maketrans('', '', string.digits)\n",
    "MULTIPLE_WHITESPACE = re.compile(r\"\\s+\")\n"
   ]
  },
  {
   "cell_type": "code",
   "execution_count": 32,
   "id": "c501640e",
   "metadata": {},
   "outputs": [],
   "source": [
    "def preprocessor(text):\n",
    "    # remove html tags\n",
    "    text = HTMLTAGS.sub(r'', text)\n",
    "\n",
    "    # remove puncutuation\n",
    "    text = text.translate(table)\n",
    "    \n",
    "    # remove digits\n",
    "    text = text.translate(remove_digits)\n",
    "    \n",
    "    # lower case all letters\n",
    "    text = text.lower()\n",
    "    \n",
    "    # replace multiple white spaces with single space\n",
    "    text = MULTIPLE_WHITESPACE.sub(\" \", text).strip()\n",
    "    \n",
    "    # remove stop words\n",
    "    text = [word for word in text.split()\n",
    "              if word not in final_stopwords]\n",
    "    \n",
    "    # stemming\n",
    "    text = ' '.join([stemmer.stem(word) for word in text])\n",
    "    \n",
    "    return text"
   ]
  },
  {
   "cell_type": "code",
   "execution_count": 33,
   "id": "c4fad9f6",
   "metadata": {},
   "outputs": [
    {
     "name": "stdout",
     "output_type": "stream",
     "text": [
      "Before preprocessing : \n"
     ]
    },
    {
     "data": {
      "text/plain": [
       "\"To be honest, my husband did not use this for a balding head. He wanted to try it for his face and for nose/ear hairs. This is his review. This was a nice man's shaver. It has several attachments which are easy to change out and install. The shave I got was super close and it was easy to maneuver it over the contours of my face. I have to admit it is one of the best shaves I have had in the past few years and for the money it is a good deal. The nose trimmer worked well with no pain or irritation. Highly recommend.\""
      ]
     },
     "execution_count": 33,
     "metadata": {},
     "output_type": "execute_result"
    }
   ],
   "source": [
    "print(\"Before preprocessing : \")\n",
    "data.text.iloc[6]"
   ]
  },
  {
   "cell_type": "code",
   "execution_count": 34,
   "id": "6b3df686",
   "metadata": {},
   "outputs": [
    {
     "name": "stdout",
     "output_type": "stream",
     "text": [
      "After preprocessing : \n"
     ]
    },
    {
     "data": {
      "text/plain": [
       "'honest husband not use bald head want tri face noseear hair review nice man shaver sever attach easi chang instal shave got super close easi maneuv contour face admit best shave past year money good deal nose trimmer work well no pain irrit highli recommend'"
      ]
     },
     "execution_count": 34,
     "metadata": {},
     "output_type": "execute_result"
    }
   ],
   "source": [
    "data.text = data.text.apply(preprocessor) \n",
    "print(\"After preprocessing : \")\n",
    "data.text.iloc[6]"
   ]
  },
  {
   "cell_type": "code",
   "execution_count": 35,
   "id": "4bc10a5b",
   "metadata": {},
   "outputs": [],
   "source": [
    "#import all the necessary packages\n",
    "\n",
    "from sklearn.model_selection import train_test_split #import train_test_split\n",
    "##from sklearn.feature_extraction.text import TfidfVectorizer #import TfidfVectorizer \n",
    "##from sklearn.metrics import confusion_matrix #import confusion_matrix\n",
    "from sklearn.naive_bayes import MultinomialNB #import MultinomialNB\n",
    "##from sklearn.ensemble import RandomForestClassifier  #import RandomForestClassifier"
   ]
  },
  {
   "cell_type": "code",
   "execution_count": 36,
   "id": "f6122424",
   "metadata": {},
   "outputs": [],
   "source": [
    "x = data.text\n",
    "y = data.Sentiment\n",
    "\n",
    "x_train, x_test, y_train, y_test = train_test_split(x, y, test_size=0.20, random_state=1, stratify=y)"
   ]
  },
  {
   "cell_type": "code",
   "execution_count": 39,
   "id": "e47be627",
   "metadata": {},
   "outputs": [
    {
     "data": {
      "text/plain": [
       "((395296,), (98825,))"
      ]
     },
     "execution_count": 39,
     "metadata": {},
     "output_type": "execute_result"
    }
   ],
   "source": [
    "x_train.shape, x_test.shape"
   ]
  },
  {
   "cell_type": "code",
   "execution_count": 41,
   "id": "1964b333",
   "metadata": {},
   "outputs": [],
   "source": [
    "from sklearn.feature_extraction.text import TfidfVectorizer\n",
    "from sklearn.feature_extraction.text import CountVectorizer\n",
    "bow_vectorizer = CountVectorizer(max_features=10000)\n",
    "bow_vectorizer.fit(x_train)\n",
    "\n",
    "# transform\n",
    "bow_x_train = bow_vectorizer.transform(x_train)\n",
    "bow_x_test = bow_vectorizer.transform(x_test)"
   ]
  },
  {
   "cell_type": "code",
   "execution_count": 42,
   "id": "aa52d958",
   "metadata": {},
   "outputs": [],
   "source": [
    "tfidf_vectorizer = TfidfVectorizer(max_features=10000)\n",
    "tfidf_vectorizer.fit(x_train)\n",
    "\n",
    "# transform\n",
    "tfidf_x_train = tfidf_vectorizer.transform(x_train)\n",
    "tfidf_x_test = tfidf_vectorizer.transform(x_test)"
   ]
  },
  {
   "cell_type": "code",
   "execution_count": 43,
   "id": "bd3336f5",
   "metadata": {},
   "outputs": [
    {
     "name": "stdout",
     "output_type": "stream",
     "text": [
      "['Negative', 'Neutral', 'Positive']\n"
     ]
    }
   ],
   "source": [
    "labelEncoder = LabelEncoder()\n",
    "\n",
    "y_train = labelEncoder.fit_transform(y_train)\n",
    "y_test = labelEncoder.transform(y_test)\n",
    "\n",
    "labels = labelEncoder.classes_.tolist()\n",
    "print(labels) # index-> class"
   ]
  },
  {
   "cell_type": "code",
   "execution_count": 44,
   "id": "152acbdb",
   "metadata": {},
   "outputs": [],
   "source": [
    "from sklearn.metrics import accuracy_score, confusion_matrix\n",
    "def train_and_eval(model, trainX, trainY, testX, testY):\n",
    "\n",
    "    # training\n",
    "    _ = model.fit(trainX, trainY)\n",
    "\n",
    "    # predictions\n",
    "    y_preds_train = model.predict(trainX)\n",
    "    y_preds_test = model.predict(testX)\n",
    "\n",
    "    # evaluation\n",
    "    print()\n",
    "    print(model)\n",
    "    print(f\"Train accuracy score : {accuracy_score(y_train, y_preds_train)}\")\n",
    "    print(f\"Test accuracy score : {accuracy_score(y_test, y_preds_test)}\")\n",
    "    print('\\n',40*'-')"
   ]
  },
  {
   "cell_type": "code",
   "execution_count": 59,
   "id": "6af1e090",
   "metadata": {},
   "outputs": [
    {
     "name": "stdout",
     "output_type": "stream",
     "text": [
      "\n",
      "LogisticRegression(C=0.001, max_iter=500, random_state=1)\n",
      "Train accuracy score : 0.8117714320407998\n",
      "Test accuracy score : 0.8110194788768025\n",
      "\n",
      " ----------------------------------------\n",
      "\n",
      "LogisticRegression(C=0.01, max_iter=500, random_state=1)\n",
      "Train accuracy score : 0.8403550756901158\n",
      "Test accuracy score : 0.8358006577283076\n",
      "\n",
      " ----------------------------------------\n",
      "\n",
      "LogisticRegression(C=0.1, max_iter=500, random_state=1)\n",
      "Train accuracy score : 0.8521740670282523\n",
      "Test accuracy score : 0.8417505691879585\n",
      "\n",
      " ----------------------------------------\n",
      "\n",
      "LogisticRegression(C=1, max_iter=500, random_state=1)\n",
      "Train accuracy score : 0.8581999311908038\n",
      "Test accuracy score : 0.8410422463951429\n",
      "\n",
      " ----------------------------------------\n",
      "\n",
      "LogisticRegression(C=10, max_iter=500, random_state=1)\n",
      "Train accuracy score : 0.859973285841496\n",
      "Test accuracy score : 0.8392410827219833\n",
      "\n",
      " ----------------------------------------\n"
     ]
    }
   ],
   "source": [
    "# Hyperparameters\n",
    "from sklearn.linear_model import LogisticRegression\n",
    "C = [0.001, 0.01, 0.1, 1, 10]\n",
    "\n",
    "for c in C: \n",
    "    # Define model\n",
    "    log_model = LogisticRegression(C=c, max_iter=500, random_state=1)\n",
    "    \n",
    "    # Train and evaluate model\n",
    "    train_and_eval(log_model, bow_x_train, y_train, bow_x_test, y_test)"
   ]
  },
  {
   "cell_type": "code",
   "execution_count": 48,
   "id": "259c13ea",
   "metadata": {},
   "outputs": [
    {
     "name": "stdout",
     "output_type": "stream",
     "text": [
      "\n",
      "MultinomialNB(alpha=0)\n",
      "Train accuracy score : 0.8240533676030114\n",
      "Test accuracy score : 0.8161699974702757\n",
      "\n",
      " ----------------------------------------\n",
      "\n",
      "MultinomialNB(alpha=0.2)\n",
      "Train accuracy score : 0.8229149801667611\n",
      "Test accuracy score : 0.8159271439413104\n",
      "\n",
      " ----------------------------------------\n",
      "\n",
      "MultinomialNB(alpha=0.6)\n",
      "Train accuracy score : 0.8224191491945276\n",
      "Test accuracy score : 0.8158765494561093\n",
      "\n",
      " ----------------------------------------\n",
      "\n",
      "MultinomialNB(alpha=0.8)\n",
      "Train accuracy score : 0.8224242086942443\n",
      "Test accuracy score : 0.816089046293954\n",
      "\n",
      " ----------------------------------------\n",
      "\n",
      "MultinomialNB(alpha=1)\n",
      "Train accuracy score : 0.8223204889500526\n",
      "Test accuracy score : 0.8161598785732355\n",
      "\n",
      " ----------------------------------------\n"
     ]
    }
   ],
   "source": [
    "from sklearn.naive_bayes import MultinomialNB\n",
    "alphas = [0, 0.2, 0.6, 0.8, 1]\n",
    "\n",
    "for a  in alphas: \n",
    "    # Define model\n",
    "    nb_model = MultinomialNB(alpha=a)\n",
    "\n",
    "    # Train and evaluate model\n",
    "    train_and_eval(nb_model,bow_x_train,y_train,bow_x_test,y_test)"
   ]
  },
  {
   "cell_type": "code",
   "execution_count": 49,
   "id": "3e2ef873",
   "metadata": {},
   "outputs": [
    {
     "name": "stdout",
     "output_type": "stream",
     "text": [
      "\n",
      "LogisticRegression(C=0.001, max_iter=500, random_state=1)\n",
      "Train accuracy score : 0.7443080628187485\n",
      "Test accuracy score : 0.7438300025297243\n",
      "\n",
      " ----------------------------------------\n",
      "\n",
      "LogisticRegression(C=0.01, max_iter=500, random_state=1)\n",
      "Train accuracy score : 0.8217158787339108\n",
      "Test accuracy score : 0.8210877814318239\n",
      "\n",
      " ----------------------------------------\n",
      "\n",
      "LogisticRegression(C=0.1, max_iter=500, random_state=1)\n",
      "Train accuracy score : 0.8489789929571764\n",
      "Test accuracy score : 0.8458588413862889\n",
      "\n",
      " ----------------------------------------\n",
      "\n",
      "LogisticRegression(C=1, max_iter=500, random_state=1)\n",
      "Train accuracy score : 0.8591511171375374\n",
      "Test accuracy score : 0.8501087781431824\n",
      "\n",
      " ----------------------------------------\n",
      "\n",
      "LogisticRegression(C=10, max_iter=500, random_state=1)\n",
      "Train accuracy score : 0.8632417226584636\n",
      "Test accuracy score : 0.8472350113837591\n",
      "\n",
      " ----------------------------------------\n"
     ]
    }
   ],
   "source": [
    "# Hyperparameters\n",
    "C = [0.001, 0.01, 0.1, 1, 10]\n",
    "\n",
    "for c in C: \n",
    "    # Define model\n",
    "    log_model = LogisticRegression(C=c, max_iter=500, random_state=1)\n",
    "    \n",
    "    # Train and evaluate model\n",
    "    train_and_eval(model=log_model,\n",
    "                   trainX=tfidf_x_train,\n",
    "                   trainY=y_train,\n",
    "                   testX=tfidf_x_test,\n",
    "                   testY=y_test)"
   ]
  },
  {
   "cell_type": "code",
   "execution_count": 50,
   "id": "0f90df68",
   "metadata": {},
   "outputs": [
    {
     "name": "stdout",
     "output_type": "stream",
     "text": [
      "\n",
      "MultinomialNB(alpha=0)\n",
      "Train accuracy score : 0.811637355298308\n",
      "Test accuracy score : 0.8073362003541614\n",
      "\n",
      " ----------------------------------------\n",
      "\n",
      "MultinomialNB(alpha=0.2)\n",
      "Train accuracy score : 0.8112300655711163\n",
      "Test accuracy score : 0.807366557045282\n",
      "\n",
      " ----------------------------------------\n",
      "\n",
      "MultinomialNB(alpha=0.6)\n",
      "Train accuracy score : 0.8104863191127661\n",
      "Test accuracy score : 0.8065064507968631\n",
      "\n",
      " ----------------------------------------\n",
      "\n",
      "MultinomialNB(alpha=0.8)\n",
      "Train accuracy score : 0.8100486723872743\n",
      "Test accuracy score : 0.8060511004300531\n",
      "\n",
      " ----------------------------------------\n",
      "\n",
      "MultinomialNB(alpha=1)\n",
      "Train accuracy score : 0.8095806686634825\n",
      "Test accuracy score : 0.8057880091070073\n",
      "\n",
      " ----------------------------------------\n"
     ]
    }
   ],
   "source": [
    "alphas = [0, 0.2, 0.6, 0.8, 1]\n",
    "\n",
    "for a  in alphas: \n",
    "    # Define model\n",
    "    nb_model = MultinomialNB(alpha=a)\n",
    "\n",
    "    # Train and evaluate model\n",
    "    train_and_eval(model=nb_model,\n",
    "                   trainX=tfidf_x_train,\n",
    "                   trainY=y_train,\n",
    "                   testX=tfidf_x_test,\n",
    "                   testY=y_test)"
   ]
  },
  {
   "cell_type": "code",
   "execution_count": 51,
   "id": "9477b6e2",
   "metadata": {},
   "outputs": [],
   "source": [
    "def plot_cm(y_true, y_pred):\n",
    "    plt.figure(figsize=(6,6))\n",
    "    \n",
    "    cm = confusion_matrix(y_true, y_pred, normalize='true')\n",
    "    \n",
    "    sns.heatmap(\n",
    "        cm, annot=True, cmap='Blues', cbar=False, fmt='.2f',\n",
    "        xticklabels=labels, yticklabels=labels)\n",
    "    \n",
    "    return plt.show()"
   ]
  },
  {
   "cell_type": "code",
   "execution_count": 52,
   "id": "53f26aac",
   "metadata": {},
   "outputs": [
    {
     "data": {
      "text/html": [
       "<style>#sk-container-id-1 {color: black;background-color: white;}#sk-container-id-1 pre{padding: 0;}#sk-container-id-1 div.sk-toggleable {background-color: white;}#sk-container-id-1 label.sk-toggleable__label {cursor: pointer;display: block;width: 100%;margin-bottom: 0;padding: 0.3em;box-sizing: border-box;text-align: center;}#sk-container-id-1 label.sk-toggleable__label-arrow:before {content: \"▸\";float: left;margin-right: 0.25em;color: #696969;}#sk-container-id-1 label.sk-toggleable__label-arrow:hover:before {color: black;}#sk-container-id-1 div.sk-estimator:hover label.sk-toggleable__label-arrow:before {color: black;}#sk-container-id-1 div.sk-toggleable__content {max-height: 0;max-width: 0;overflow: hidden;text-align: left;background-color: #f0f8ff;}#sk-container-id-1 div.sk-toggleable__content pre {margin: 0.2em;color: black;border-radius: 0.25em;background-color: #f0f8ff;}#sk-container-id-1 input.sk-toggleable__control:checked~div.sk-toggleable__content {max-height: 200px;max-width: 100%;overflow: auto;}#sk-container-id-1 input.sk-toggleable__control:checked~label.sk-toggleable__label-arrow:before {content: \"▾\";}#sk-container-id-1 div.sk-estimator input.sk-toggleable__control:checked~label.sk-toggleable__label {background-color: #d4ebff;}#sk-container-id-1 div.sk-label input.sk-toggleable__control:checked~label.sk-toggleable__label {background-color: #d4ebff;}#sk-container-id-1 input.sk-hidden--visually {border: 0;clip: rect(1px 1px 1px 1px);clip: rect(1px, 1px, 1px, 1px);height: 1px;margin: -1px;overflow: hidden;padding: 0;position: absolute;width: 1px;}#sk-container-id-1 div.sk-estimator {font-family: monospace;background-color: #f0f8ff;border: 1px dotted black;border-radius: 0.25em;box-sizing: border-box;margin-bottom: 0.5em;}#sk-container-id-1 div.sk-estimator:hover {background-color: #d4ebff;}#sk-container-id-1 div.sk-parallel-item::after {content: \"\";width: 100%;border-bottom: 1px solid gray;flex-grow: 1;}#sk-container-id-1 div.sk-label:hover label.sk-toggleable__label {background-color: #d4ebff;}#sk-container-id-1 div.sk-serial::before {content: \"\";position: absolute;border-left: 1px solid gray;box-sizing: border-box;top: 0;bottom: 0;left: 50%;z-index: 0;}#sk-container-id-1 div.sk-serial {display: flex;flex-direction: column;align-items: center;background-color: white;padding-right: 0.2em;padding-left: 0.2em;position: relative;}#sk-container-id-1 div.sk-item {position: relative;z-index: 1;}#sk-container-id-1 div.sk-parallel {display: flex;align-items: stretch;justify-content: center;background-color: white;position: relative;}#sk-container-id-1 div.sk-item::before, #sk-container-id-1 div.sk-parallel-item::before {content: \"\";position: absolute;border-left: 1px solid gray;box-sizing: border-box;top: 0;bottom: 0;left: 50%;z-index: -1;}#sk-container-id-1 div.sk-parallel-item {display: flex;flex-direction: column;z-index: 1;position: relative;background-color: white;}#sk-container-id-1 div.sk-parallel-item:first-child::after {align-self: flex-end;width: 50%;}#sk-container-id-1 div.sk-parallel-item:last-child::after {align-self: flex-start;width: 50%;}#sk-container-id-1 div.sk-parallel-item:only-child::after {width: 0;}#sk-container-id-1 div.sk-dashed-wrapped {border: 1px dashed gray;margin: 0 0.4em 0.5em 0.4em;box-sizing: border-box;padding-bottom: 0.4em;background-color: white;}#sk-container-id-1 div.sk-label label {font-family: monospace;font-weight: bold;display: inline-block;line-height: 1.2em;}#sk-container-id-1 div.sk-label-container {text-align: center;}#sk-container-id-1 div.sk-container {/* jupyter's `normalize.less` sets `[hidden] { display: none; }` but bootstrap.min.css set `[hidden] { display: none !important; }` so we also need the `!important` here to be able to override the default hidden behavior on the sphinx rendered scikit-learn.org. See: https://github.com/scikit-learn/scikit-learn/issues/21755 */display: inline-block !important;position: relative;}#sk-container-id-1 div.sk-text-repr-fallback {display: none;}</style><div id=\"sk-container-id-1\" class=\"sk-top-container\"><div class=\"sk-text-repr-fallback\"><pre>LogisticRegression(C=10, max_iter=500, random_state=1)</pre><b>In a Jupyter environment, please rerun this cell to show the HTML representation or trust the notebook. <br />On GitHub, the HTML representation is unable to render, please try loading this page with nbviewer.org.</b></div><div class=\"sk-container\" hidden><div class=\"sk-item\"><div class=\"sk-estimator sk-toggleable\"><input class=\"sk-toggleable__control sk-hidden--visually\" id=\"sk-estimator-id-1\" type=\"checkbox\" checked><label for=\"sk-estimator-id-1\" class=\"sk-toggleable__label sk-toggleable__label-arrow\">LogisticRegression</label><div class=\"sk-toggleable__content\"><pre>LogisticRegression(C=10, max_iter=500, random_state=1)</pre></div></div></div></div></div>"
      ],
      "text/plain": [
       "LogisticRegression(C=10, max_iter=500, random_state=1)"
      ]
     },
     "execution_count": 52,
     "metadata": {},
     "output_type": "execute_result"
    }
   ],
   "source": [
    "bmodel = LogisticRegression(C=c, max_iter=500, random_state=1)\n",
    "bmodel.fit(bow_x_train, y_train)"
   ]
  },
  {
   "cell_type": "code",
   "execution_count": 53,
   "id": "b0e38fa8",
   "metadata": {},
   "outputs": [],
   "source": [
    "y_preds_train = bmodel.predict(bow_x_train)\n",
    "y_preds_test = bmodel.predict(bow_x_test)"
   ]
  },
  {
   "cell_type": "code",
   "execution_count": 54,
   "id": "50b8af3b",
   "metadata": {},
   "outputs": [
    {
     "name": "stdout",
     "output_type": "stream",
     "text": [
      "Train accuracy score : 0.859973285841496\n",
      "Test accuracy score : 0.8392410827219833\n"
     ]
    }
   ],
   "source": [
    "print(f\"Train accuracy score : {accuracy_score(y_train, y_preds_train)}\")\n",
    "print(f\"Test accuracy score : {accuracy_score(y_test, y_preds_test)}\")"
   ]
  },
  {
   "cell_type": "code",
   "execution_count": 55,
   "id": "65621eeb",
   "metadata": {},
   "outputs": [
    {
     "data": {
      "image/png": "[encoded data removed]",
      "text/plain": [
       "<Figure size 600x600 with 1 Axes>"
      ]
     },
     "metadata": {},
     "output_type": "display_data"
    }
   ],
   "source": [
    "plot_cm(y_test, y_preds_test)"
   ]
  },
  {
   "cell_type": "code",
   "execution_count": 56,
   "id": "77760dc6",
   "metadata": {},
   "outputs": [],
   "source": [
    "import pickle\n",
    "with open(\"transformer.pkl\", \"wb\") as f:\n",
    "    pickle.dump(bow_vectorizer, f)\n",
    "    \n",
    "with open(\"model.pkl\", \"wb\") as f:\n",
    "    pickle.dump(bmodel, f)"
   ]
  },
  {
   "cell_type": "code",
   "execution_count": 57,
   "id": "d6d2d8ca",
   "metadata": {},
   "outputs": [],
   "source": [
    "def get_sentiment(review):\n",
    "    # preprocessing\n",
    "    x = preprocessor(review)\n",
    "    #vectorization\n",
    "    x = bow_vectorizer.transform([x])\n",
    "    #prediction\n",
    "    y = int(bmodel.predict(x.reshape(1,-1)))\n",
    "    return labels[y]"
   ]
  },
  {
   "cell_type": "code",
   "execution_count": 58,
   "id": "0068944e",
   "metadata": {},
   "outputs": [
    {
     "name": "stdout",
     "output_type": "stream",
     "text": [
      "This is a Positive review!\n"
     ]
    }
   ],
   "source": [
    "review=\"I have been suffering a couple months with heel pain from plantar fasciitis.  I thought I'd give these a try and wow, I was surprised at how much they cut down on the pain.  I wish they came in a tighter and thicker version.\"\n",
    "print(f\"This is a {get_sentiment(review)} review!\")"
   ]
  },
  {
   "cell_type": "code",
   "execution_count": 64,
   "id": "4b517815",
   "metadata": {},
   "outputs": [],
   "source": [
    "data2=r\"Health_and_Personal_Care.jsonl\"\n",
    "data2=pd.read_json(data2,lines=True)\n",
    "data2=data2.head(500)"
   ]
  },
  {
   "cell_type": "code",
   "execution_count": 65,
   "id": "8500d548",
   "metadata": {},
   "outputs": [],
   "source": [
    "data.sentiment=data2['text'].apply(get_sentiment)"
   ]
  },
  {
   "cell_type": "code",
   "execution_count": 67,
   "id": "99d32b6e",
   "metadata": {},
   "outputs": [
    {
     "data": {
      "text/plain": [
       "0      Positive\n",
       "1      Positive\n",
       "2      Positive\n",
       "3      Negative\n",
       "4      Negative\n",
       "         ...   \n",
       "495    Positive\n",
       "496    Positive\n",
       "497    Positive\n",
       "498    Positive\n",
       "499    Positive\n",
       "Name: text, Length: 500, dtype: object"
      ]
     },
     "execution_count": 67,
     "metadata": {},
     "output_type": "execute_result"
    }
   ],
   "source": [
    "data.sentiment"
   ]
  },
  {
   "cell_type": "code",
   "execution_count": 68,
   "id": "1d8b5250",
   "metadata": {},
   "outputs": [
    {
     "data": {
      "text/plain": [
       "'This review is more to clarify someone else’s review bc they didn’t understand understand the labeling!  It shows 1000mg as advertised & another little label says 12mg bc 12 is on the periodic table for magnesium!  I realize not everyone takes chemistry, but 4 ppl liked his review & so misinformation is spreading.  This works. If however you are on opiate level medications that are causing constipation you should talk to your pain dr or your gastrointestinal dr & ask for a medication called Linzess which works must better & must faster, but is unnecessary for most people.  If magnesium is working for you just make sure to take it with food & drink 6-8 glasses of water per day.  Staying hydrated will really help.  Before switching to Linzess I used to take one 1,000 mg pill am & pm every day with meals & always with an 8 ounce glass of water or other liquid.'"
      ]
     },
     "execution_count": 68,
     "metadata": {},
     "output_type": "execute_result"
    }
   ],
   "source": [
    "data2['text'].iloc[0]"
   ]
  },
  {
   "cell_type": "code",
   "execution_count": null,
   "id": "e488d2ed",
   "metadata": {},
   "outputs": [
    {
     "name": "stdout",
     "output_type": "stream",
     "text": [
      "\n",
      "RandomForestClassifier(n_estimators=50, random_state=1)\n",
      "Train accuracy score : 0.9934378288674816\n",
      "Test accuracy score : 0.8408499873513787\n",
      "\n",
      " ----------------------------------------\n"
     ]
    }
   ],
   "source": [
    "# Hyperparameters\n",
    "from sklearn.ensemble import RandomForestClassifier\n",
    "\n",
    "# Define different values for n_estimators\n",
    "n_estimators = [50, 100, 200, 300]\n",
    "\n",
    "for n in n_estimators: \n",
    "    # Define model\n",
    "    rf_model = RandomForestClassifier(n_estimators=n, random_state=1)\n",
    "    \n",
    "    # Train and evaluate model\n",
    "    train_and_eval(rf_model, bow_x_train, y_train, bow_x_test, y_test)"
   ]
  },
  {
   "cell_type": "code",
   "execution_count": null,
   "id": "032430d8",
   "metadata": {},
   "outputs": [],
   "source": [
    "from sklearn.ensemble import RandomForestClassifier\n",
    "\n",
    "# Define the Random Forest model with a specific value of n_estimators\n",
    "rf_model = RandomForestClassifier(n_estimators=100, random_state=1)\n",
    "\n",
    "# Fit the Random Forest model to the training data\n",
    "rf_model.fit(bow_x_train, y_train)"
   ]
  }
 ],
 "metadata": {
  "kernelspec": {
   "display_name": "Python 3 (ipykernel)",
   "language": "python",
   "name": "python3"
  },
  "language_info": {
   "codemirror_mode": {
    "name": "ipython",
    "version": 3
   },
   "file_extension": ".py",
   "mimetype": "text/x-python",
   "name": "python",
   "nbconvert_exporter": "python",
   "pygments_lexer": "ipython3",
   "version": "3.10.9"
  }
 },
 "nbformat": 4,
 "nbformat_minor": 5
}
